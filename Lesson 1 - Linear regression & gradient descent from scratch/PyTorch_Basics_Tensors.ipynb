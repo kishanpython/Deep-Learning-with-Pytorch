{
  "nbformat": 4,
  "nbformat_minor": 0,
  "metadata": {
    "colab": {
      "name": "PyTorch Basics: Tensors.ipynb",
      "provenance": [],
      "collapsed_sections": []
    },
    "kernelspec": {
      "name": "python3",
      "display_name": "Python 3"
    }
  },
  "cells": [
    {
      "cell_type": "markdown",
      "metadata": {
        "id": "QkdG3aoECjxP"
      },
      "source": [
        "# **PyTorch Basics: Tensors & Gradients**\n",
        "Let's import the torch module to get started."
      ]
    },
    {
      "cell_type": "code",
      "metadata": {
        "id": "Yvy3_UXIKX9T"
      },
      "source": [
        "import torch"
      ],
      "execution_count": 1,
      "outputs": []
    },
    {
      "cell_type": "markdown",
      "metadata": {
        "id": "x7jVqjxhKx9Y"
      },
      "source": [
        "# **Tensors in Pytorch**\n",
        "At its core, PyTorch is a library for processing tensors. A tensor is a number, vector, matrix, or any n-dimensional array. Let's create a tensor with a single number."
      ]
    },
    {
      "cell_type": "code",
      "metadata": {
        "id": "gzoZ2Zn5K2G8"
      },
      "source": [
        "# Number\n",
        "t1 = torch.tensor(4.)"
      ],
      "execution_count": 2,
      "outputs": []
    },
    {
      "cell_type": "code",
      "metadata": {
        "id": "LB3up86IK4pl",
        "colab": {
          "base_uri": "https://localhost:8080/"
        },
        "outputId": "97189d2a-e8d1-4627-a310-f8c06d0d9155"
      },
      "source": [
        "t1"
      ],
      "execution_count": 3,
      "outputs": [
        {
          "output_type": "execute_result",
          "data": {
            "text/plain": [
              "tensor(4.)"
            ]
          },
          "metadata": {
            "tags": []
          },
          "execution_count": 3
        }
      ]
    },
    {
      "cell_type": "code",
      "metadata": {
        "id": "LmVNLVf9K7Pt",
        "colab": {
          "base_uri": "https://localhost:8080/"
        },
        "outputId": "656e9198-125e-4610-bc1c-7fb3ea6171a0"
      },
      "source": [
        "t1.dtype"
      ],
      "execution_count": 4,
      "outputs": [
        {
          "output_type": "execute_result",
          "data": {
            "text/plain": [
              "torch.float32"
            ]
          },
          "metadata": {
            "tags": []
          },
          "execution_count": 4
        }
      ]
    },
    {
      "cell_type": "code",
      "metadata": {
        "id": "1IJ074zxLEu8",
        "colab": {
          "base_uri": "https://localhost:8080/"
        },
        "outputId": "fe60a2b9-4ecf-49cb-c31b-bf49046982a6"
      },
      "source": [
        "# Vector\n",
        "t2 = torch.tensor([1,2,3])\n",
        "t2"
      ],
      "execution_count": 5,
      "outputs": [
        {
          "output_type": "execute_result",
          "data": {
            "text/plain": [
              "tensor([1, 2, 3])"
            ]
          },
          "metadata": {
            "tags": []
          },
          "execution_count": 5
        }
      ]
    },
    {
      "cell_type": "code",
      "metadata": {
        "id": "IYr8lPFkLQoc",
        "colab": {
          "base_uri": "https://localhost:8080/"
        },
        "outputId": "5a407096-0e08-4495-a717-acef9d89ab46"
      },
      "source": [
        "# slightly more complex tensor\n",
        "t3 = torch.tensor([[1,2,3],[2,3,4],[5,4,3]])\n",
        "t3"
      ],
      "execution_count": 6,
      "outputs": [
        {
          "output_type": "execute_result",
          "data": {
            "text/plain": [
              "tensor([[1, 2, 3],\n",
              "        [2, 3, 4],\n",
              "        [5, 4, 3]])"
            ]
          },
          "metadata": {
            "tags": []
          },
          "execution_count": 6
        }
      ]
    },
    {
      "cell_type": "code",
      "metadata": {
        "id": "hSTkIOzCLjP9",
        "colab": {
          "base_uri": "https://localhost:8080/"
        },
        "outputId": "7094acd1-caf7-407c-8bf6-60b556b2d883"
      },
      "source": [
        "t4 = torch.tensor([1., 2, 3, 4])\n",
        "t4"
      ],
      "execution_count": 7,
      "outputs": [
        {
          "output_type": "execute_result",
          "data": {
            "text/plain": [
              "tensor([1., 2., 3., 4.])"
            ]
          },
          "metadata": {
            "tags": []
          },
          "execution_count": 7
        }
      ]
    },
    {
      "cell_type": "code",
      "metadata": {
        "id": "iZh9pTzpLtNt",
        "colab": {
          "base_uri": "https://localhost:8080/"
        },
        "outputId": "1eccec0a-7acd-446a-ca57-de7eb5748d41"
      },
      "source": [
        "# Matrix\n",
        "t5 = torch.tensor([[5., 6], \n",
        "                   [7, 8], \n",
        "                   [9, 10]])\n",
        "t5"
      ],
      "execution_count": 8,
      "outputs": [
        {
          "output_type": "execute_result",
          "data": {
            "text/plain": [
              "tensor([[ 5.,  6.],\n",
              "        [ 7.,  8.],\n",
              "        [ 9., 10.]])"
            ]
          },
          "metadata": {
            "tags": []
          },
          "execution_count": 8
        }
      ]
    },
    {
      "cell_type": "code",
      "metadata": {
        "id": "gAHYhnvwLyEM",
        "colab": {
          "base_uri": "https://localhost:8080/"
        },
        "outputId": "527ddc92-9c57-427b-d145-35afe1e49082"
      },
      "source": [
        "# 3-D Array\n",
        "t6 = torch.tensor([\n",
        "                   [[1,2,3],[4,5,6]],\n",
        "                   [[1,2,3],[4,5,6]],\n",
        "                   ])\n",
        "t6"
      ],
      "execution_count": 9,
      "outputs": [
        {
          "output_type": "execute_result",
          "data": {
            "text/plain": [
              "tensor([[[1, 2, 3],\n",
              "         [4, 5, 6]],\n",
              "\n",
              "        [[1, 2, 3],\n",
              "         [4, 5, 6]]])"
            ]
          },
          "metadata": {
            "tags": []
          },
          "execution_count": 9
        }
      ]
    },
    {
      "cell_type": "code",
      "metadata": {
        "id": "1pcYwT7aMnb8",
        "colab": {
          "base_uri": "https://localhost:8080/"
        },
        "outputId": "ef19eb16-de50-41f6-fe79-915a5141c984"
      },
      "source": [
        "# Let ceheck the shape\n",
        "t6.shape"
      ],
      "execution_count": 10,
      "outputs": [
        {
          "output_type": "execute_result",
          "data": {
            "text/plain": [
              "torch.Size([2, 2, 3])"
            ]
          },
          "metadata": {
            "tags": []
          },
          "execution_count": 10
        }
      ]
    },
    {
      "cell_type": "markdown",
      "metadata": {
        "id": "gCstDMpaxD6r"
      },
      "source": [
        "# **Tensor operations and gradients**"
      ]
    },
    {
      "cell_type": "code",
      "metadata": {
        "id": "T4Q-0DsHxFUG"
      },
      "source": [
        "x = torch.tensor(3.)\n",
        "w = torch.tensor(4., requires_grad=True)\n",
        "b = torch.tensor(6.,requires_grad=True)"
      ],
      "execution_count": 11,
      "outputs": []
    },
    {
      "cell_type": "code",
      "metadata": {
        "colab": {
          "base_uri": "https://localhost:8080/"
        },
        "id": "FnvuaLEZxaCG",
        "outputId": "9de5a3ff-675b-4fdf-9977-e95e181e0cdf"
      },
      "source": [
        "# Arithmetics operations\n",
        "y = w*x+b\n",
        "y"
      ],
      "execution_count": 12,
      "outputs": [
        {
          "output_type": "execute_result",
          "data": {
            "text/plain": [
              "tensor(18., grad_fn=<AddBackward0>)"
            ]
          },
          "metadata": {
            "tags": []
          },
          "execution_count": 12
        }
      ]
    },
    {
      "cell_type": "code",
      "metadata": {
        "id": "_UUjy-47xboW"
      },
      "source": [
        "# compute derivatives\n",
        "y.backward()"
      ],
      "execution_count": 13,
      "outputs": []
    },
    {
      "cell_type": "code",
      "metadata": {
        "colab": {
          "base_uri": "https://localhost:8080/"
        },
        "id": "WvFvQjk0xo-l",
        "outputId": "c66e2ec3-b779-4e0a-ddb8-c9fba2f66c26"
      },
      "source": [
        "# Display gradients\n",
        "print('dy/dx:', x.grad)\n",
        "print('dy/dw:', w.grad)\n",
        "print('dy/db:', b.grad)"
      ],
      "execution_count": 14,
      "outputs": [
        {
          "output_type": "stream",
          "text": [
            "dy/dx: None\n",
            "dy/dw: tensor(3.)\n",
            "dy/db: tensor(1.)\n"
          ],
          "name": "stdout"
        }
      ]
    },
    {
      "cell_type": "markdown",
      "metadata": {
        "id": "YA0wKIq_yBWR"
      },
      "source": [
        "# **Tensor Functions**"
      ]
    },
    {
      "cell_type": "code",
      "metadata": {
        "colab": {
          "base_uri": "https://localhost:8080/"
        },
        "id": "5r19qq2xyEul",
        "outputId": "5fc886e4-fd73-446f-eaf6-9a1f631a4da8"
      },
      "source": [
        "# Create a tensor with a fixed value for every element\n",
        "t6 = torch.full((3, 2), 42.)\n",
        "t6"
      ],
      "execution_count": 15,
      "outputs": [
        {
          "output_type": "execute_result",
          "data": {
            "text/plain": [
              "tensor([[42., 42.],\n",
              "        [42., 42.],\n",
              "        [42., 42.]])"
            ]
          },
          "metadata": {
            "tags": []
          },
          "execution_count": 15
        }
      ]
    },
    {
      "cell_type": "code",
      "metadata": {
        "id": "edqcRN7R1cVp"
      },
      "source": [
        "tt3  = torch.tensor([[2.,3.],[4.,6.],[5.,8.]])"
      ],
      "execution_count": 16,
      "outputs": []
    },
    {
      "cell_type": "code",
      "metadata": {
        "colab": {
          "base_uri": "https://localhost:8080/"
        },
        "id": "vG5o2a2A1W5m",
        "outputId": "8d33470c-e394-4059-adf1-2bee75518a96"
      },
      "source": [
        "# Concatenate two tensors with compatible shapes\n",
        "t7 = torch.cat((tt3, t6))\n",
        "t7"
      ],
      "execution_count": 17,
      "outputs": [
        {
          "output_type": "execute_result",
          "data": {
            "text/plain": [
              "tensor([[ 2.,  3.],\n",
              "        [ 4.,  6.],\n",
              "        [ 5.,  8.],\n",
              "        [42., 42.],\n",
              "        [42., 42.],\n",
              "        [42., 42.]])"
            ]
          },
          "metadata": {
            "tags": []
          },
          "execution_count": 17
        }
      ]
    },
    {
      "cell_type": "code",
      "metadata": {
        "id": "KLNuWN4b1ZSU"
      },
      "source": [
        "t8 = torch.sin(t7)"
      ],
      "execution_count": 18,
      "outputs": []
    },
    {
      "cell_type": "code",
      "metadata": {
        "colab": {
          "base_uri": "https://localhost:8080/"
        },
        "id": "vmxCRXPTyZDW",
        "outputId": "6516b105-eb08-4568-a865-b96cb25a7a71"
      },
      "source": [
        "t8"
      ],
      "execution_count": 19,
      "outputs": [
        {
          "output_type": "execute_result",
          "data": {
            "text/plain": [
              "tensor([[ 0.9093,  0.1411],\n",
              "        [-0.7568, -0.2794],\n",
              "        [-0.9589,  0.9894],\n",
              "        [-0.9165, -0.9165],\n",
              "        [-0.9165, -0.9165],\n",
              "        [-0.9165, -0.9165]])"
            ]
          },
          "metadata": {
            "tags": []
          },
          "execution_count": 19
        }
      ]
    },
    {
      "cell_type": "code",
      "metadata": {
        "colab": {
          "base_uri": "https://localhost:8080/"
        },
        "id": "QSqDtk0uyoo1",
        "outputId": "a525b997-a89b-4f36-e487-44bb4096ed78"
      },
      "source": [
        "# Change the shape of a tensor\n",
        "t9 = t8.reshape(3, 2, 2)\n",
        "t9"
      ],
      "execution_count": 20,
      "outputs": [
        {
          "output_type": "execute_result",
          "data": {
            "text/plain": [
              "tensor([[[ 0.9093,  0.1411],\n",
              "         [-0.7568, -0.2794]],\n",
              "\n",
              "        [[-0.9589,  0.9894],\n",
              "         [-0.9165, -0.9165]],\n",
              "\n",
              "        [[-0.9165, -0.9165],\n",
              "         [-0.9165, -0.9165]]])"
            ]
          },
          "metadata": {
            "tags": []
          },
          "execution_count": 20
        }
      ]
    },
    {
      "cell_type": "markdown",
      "metadata": {
        "id": "idr-kOpWzBIi"
      },
      "source": [
        "# **Numpy & Tensors Conversion**"
      ]
    },
    {
      "cell_type": "code",
      "metadata": {
        "colab": {
          "base_uri": "https://localhost:8080/"
        },
        "id": "d4wAkEJmzDzk",
        "outputId": "4d2a7ae0-12cd-4c72-d586-1bd3b8eb0589"
      },
      "source": [
        "import numpy as np\n",
        "\n",
        "x = np.array([[1, 2], [3, 4.]])\n",
        "x"
      ],
      "execution_count": 21,
      "outputs": [
        {
          "output_type": "execute_result",
          "data": {
            "text/plain": [
              "array([[1., 2.],\n",
              "       [3., 4.]])"
            ]
          },
          "metadata": {
            "tags": []
          },
          "execution_count": 21
        }
      ]
    },
    {
      "cell_type": "code",
      "metadata": {
        "colab": {
          "base_uri": "https://localhost:8080/"
        },
        "id": "60nhJwfrzHCV",
        "outputId": "03c45391-250b-4a3b-afd5-3bc1ac3dea37"
      },
      "source": [
        "# Convert the numpy array to a torch tensor.\n",
        "y = torch.from_numpy(x)\n",
        "y"
      ],
      "execution_count": 22,
      "outputs": [
        {
          "output_type": "execute_result",
          "data": {
            "text/plain": [
              "tensor([[1., 2.],\n",
              "        [3., 4.]], dtype=torch.float64)"
            ]
          },
          "metadata": {
            "tags": []
          },
          "execution_count": 22
        }
      ]
    },
    {
      "cell_type": "code",
      "metadata": {
        "colab": {
          "base_uri": "https://localhost:8080/"
        },
        "id": "z7h8VuQXzJlV",
        "outputId": "1ca297e0-1ace-46c2-dcea-23b991ca775b"
      },
      "source": [
        "x.dtype, y.dtype"
      ],
      "execution_count": 23,
      "outputs": [
        {
          "output_type": "execute_result",
          "data": {
            "text/plain": [
              "(dtype('float64'), torch.float64)"
            ]
          },
          "metadata": {
            "tags": []
          },
          "execution_count": 23
        }
      ]
    },
    {
      "cell_type": "code",
      "metadata": {
        "colab": {
          "base_uri": "https://localhost:8080/"
        },
        "id": "GOySDEUXzL4V",
        "outputId": "0d818bd7-e383-456f-fb36-ba42c5acf944"
      },
      "source": [
        "# Convert a torch tensor to a numpy array\n",
        "z = y.numpy()\n",
        "z"
      ],
      "execution_count": 24,
      "outputs": [
        {
          "output_type": "execute_result",
          "data": {
            "text/plain": [
              "array([[1., 2.],\n",
              "       [3., 4.]])"
            ]
          },
          "metadata": {
            "tags": []
          },
          "execution_count": 24
        }
      ]
    },
    {
      "cell_type": "markdown",
      "metadata": {
        "id": "0U1BYv60CbRD"
      },
      "source": [
        "# **Thank You!**"
      ]
    }
  ]
}