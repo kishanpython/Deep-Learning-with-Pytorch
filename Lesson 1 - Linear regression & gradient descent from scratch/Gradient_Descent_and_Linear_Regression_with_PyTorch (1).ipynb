{
  "nbformat": 4,
  "nbformat_minor": 0,
  "metadata": {
    "colab": {
      "name": "Gradient Descent and Linear Regression with PyTorch.ipynb",
      "provenance": [],
      "collapsed_sections": []
    },
    "kernelspec": {
      "name": "python3",
      "display_name": "Python 3"
    }
  },
  "cells": [
    {
      "cell_type": "markdown",
      "metadata": {
        "id": "XuXf3LNj-Ipx"
      },
      "source": [
        "# **Gradient Descent and Linear Regression with PyTorch**\n",
        "\n",
        "In this tutorial, we'll discuss one of the foundational algorithms in machine learning: Linear regression. We'll create a model that predicts crop yields for apples and oranges (target variables) by looking at the average temperature, rainfall, and humidity (input variables or features) in a region.\n",
        "\n",
        "In a linear regression model, each target variable is estimated to be a weighted sum of the input variables, offset by some constant, known as a bias :\n",
        "\n",
        ">`yield_apple  = w11 * temp + w12 * rainfall + w13 * humidity + b1`\n",
        "\n",
        ">`yield_orange = w21 * temp + w22 * rainfall + w23 * humidity + b2`\n",
        "\n",
        "\n",
        "* The learning part of linear regression is to figure out a set of weights w11, w12,... w23, b1 & b2 using the training data, to make accurate predictions for new data. The learned weights will be used to predict the yields for apples and oranges in a new region using the average temperature, rainfall, and humidity for that region.\n",
        "\n",
        "* We'll train our model by adjusting the weights slightly many times to make better predictions, using an optimization technique called gradient descent. Let's begin by importing Numpy and PyTorch.\n",
        "\n",
        "**Course-Name:-** <a href='https://jovian.ai/learn/deep-learning-with-pytorch-zero-to-gans'>Deep Learning with PyTorch: Zero to GANs</a>"
      ]
    },
    {
      "cell_type": "code",
      "metadata": {
        "id": "BZ0mvaRt87Xr"
      },
      "source": [
        "import numpy as np\n",
        "import torch"
      ],
      "execution_count": 1,
      "outputs": []
    },
    {
      "cell_type": "markdown",
      "metadata": {
        "id": "JsnTAUVs9Uka"
      },
      "source": [
        "# **Training Data**"
      ]
    },
    {
      "cell_type": "code",
      "metadata": {
        "id": "FlS0tsrX9LQ9"
      },
      "source": [
        "# Input (temp, rainfall, humidity)\n",
        "inputs = np.array([[73, 67, 43], \n",
        "                   [91, 88, 64], \n",
        "                   [87, 134, 58], \n",
        "                   [102, 43, 37], \n",
        "                   [69, 96, 70]], dtype='float32')"
      ],
      "execution_count": 2,
      "outputs": []
    },
    {
      "cell_type": "code",
      "metadata": {
        "id": "rPwTU4hf9aIR"
      },
      "source": [
        "# Targets (apples, oranges)\n",
        "targets = np.array([[56, 70], \n",
        "                    [81, 101], \n",
        "                    [119, 133], \n",
        "                    [22, 37], \n",
        "                    [103, 119]], dtype='float32')"
      ],
      "execution_count": 3,
      "outputs": []
    },
    {
      "cell_type": "code",
      "metadata": {
        "colab": {
          "base_uri": "https://localhost:8080/"
        },
        "id": "tOxxqhYe9cSh",
        "outputId": "e904dbf7-aa30-4a59-8e1f-411c00fbde3b"
      },
      "source": [
        "# Convert inputs and targets to tensors\n",
        "inputs = torch.from_numpy(inputs)\n",
        "targets = torch.from_numpy(targets)\n",
        "print(inputs)\n",
        "print(targets)"
      ],
      "execution_count": 4,
      "outputs": [
        {
          "output_type": "stream",
          "text": [
            "tensor([[ 73.,  67.,  43.],\n",
            "        [ 91.,  88.,  64.],\n",
            "        [ 87., 134.,  58.],\n",
            "        [102.,  43.,  37.],\n",
            "        [ 69.,  96.,  70.]])\n",
            "tensor([[ 56.,  70.],\n",
            "        [ 81., 101.],\n",
            "        [119., 133.],\n",
            "        [ 22.,  37.],\n",
            "        [103., 119.]])\n"
          ],
          "name": "stdout"
        }
      ]
    },
    {
      "cell_type": "markdown",
      "metadata": {
        "id": "sJ1tYNlV9lby"
      },
      "source": [
        "# **Linear regression model from scratch**"
      ]
    },
    {
      "cell_type": "markdown",
      "metadata": {
        "id": "APiutM919qBC"
      },
      "source": [
        "The weights and biases (w11, w12,... w23, b1 & b2) can also be represented as matrices, initialized as random values. The first row of w and the first element of b are used to predict the first target variable, i.e., yield of apples, and similarly, the second for oranges."
      ]
    },
    {
      "cell_type": "code",
      "metadata": {
        "colab": {
          "base_uri": "https://localhost:8080/"
        },
        "id": "8dEfpbNt9iWR",
        "outputId": "11edf169-7a49-4aa7-b7a6-bde93c1e5b90"
      },
      "source": [
        "# weights and biases\n",
        "w  = torch.randn(2,3, requires_grad=True)\n",
        "b  = torch.randn(2, requires_grad=True)\n",
        "print(w)\n",
        "print(b)"
      ],
      "execution_count": 5,
      "outputs": [
        {
          "output_type": "stream",
          "text": [
            "tensor([[ 0.3367,  0.3359,  1.1855],\n",
            "        [-1.0399,  0.3834, -1.6653]], requires_grad=True)\n",
            "tensor([1.4847, 0.3783], requires_grad=True)\n"
          ],
          "name": "stdout"
        }
      ]
    },
    {
      "cell_type": "code",
      "metadata": {
        "id": "yIxGVKXp-DIw"
      },
      "source": [
        "# @ represents matrix multiplication in PyTorch, and the .t method returns the transpose of a tensor.\n",
        "def model(input):\n",
        "  return input @ w.t() + b"
      ],
      "execution_count": 6,
      "outputs": []
    },
    {
      "cell_type": "code",
      "metadata": {
        "colab": {
          "base_uri": "https://localhost:8080/"
        },
        "id": "t9rrc-7H-ZKg",
        "outputId": "c448c970-1708-40c3-98ca-06d837cd20f7"
      },
      "source": [
        "# Generate predictions\n",
        "preds = model(inputs)\n",
        "print(preds)"
      ],
      "execution_count": 7,
      "outputs": [
        {
          "output_type": "stream",
          "text": [
            "tensor([[  99.5437, -121.4546],\n",
            "        [ 137.5527, -167.0931],\n",
            "        [ 144.5433, -135.3035],\n",
            "        [  94.1348, -150.8222],\n",
            "        [ 139.9446, -151.1398]], grad_fn=<AddBackward0>)\n"
          ],
          "name": "stdout"
        }
      ]
    },
    {
      "cell_type": "code",
      "metadata": {
        "colab": {
          "base_uri": "https://localhost:8080/"
        },
        "id": "RN48KN0Y-bQg",
        "outputId": "a3f8407b-ddcd-40e0-8908-9ecaaafca770"
      },
      "source": [
        "# Compare with targets\n",
        "print(targets)"
      ],
      "execution_count": 8,
      "outputs": [
        {
          "output_type": "stream",
          "text": [
            "tensor([[ 56.,  70.],\n",
            "        [ 81., 101.],\n",
            "        [119., 133.],\n",
            "        [ 22.,  37.],\n",
            "        [103., 119.]])\n"
          ],
          "name": "stdout"
        }
      ]
    },
    {
      "cell_type": "code",
      "metadata": {
        "id": "xkA2F0Kv-4Ww"
      },
      "source": [
        "# MSE loss\n",
        "def mse(t1, t2):\n",
        "    diff = t1 - t2\n",
        "    return torch.sum(diff * diff) / diff.numel()"
      ],
      "execution_count": 9,
      "outputs": []
    },
    {
      "cell_type": "code",
      "metadata": {
        "colab": {
          "base_uri": "https://localhost:8080/"
        },
        "id": "eEH9wIiT--TA",
        "outputId": "7a5e6d55-bcb4-47d3-8a09-570119bad424"
      },
      "source": [
        "# Compute loss\n",
        "loss = mse(preds, targets)\n",
        "print(loss)"
      ],
      "execution_count": 10,
      "outputs": [
        {
          "output_type": "stream",
          "text": [
            "tensor(30108.3281, grad_fn=<DivBackward0>)\n"
          ],
          "name": "stdout"
        }
      ]
    },
    {
      "cell_type": "markdown",
      "metadata": {
        "id": "xkLwQukv_Ev1"
      },
      "source": [
        "#**Compute Gradients**\n",
        "\n",
        "With PyTorch, we can automatically compute the gradient or derivative of the loss w.r.t. to the weights and biases because they have `requires_grad` set to `True`. We'll see how this is useful in just a moment.\n",
        "\n",
        "The gradients are stored in the **.grad** property of the respective tensors. Note that the derivative of the `loss` w.r.t. the `weights matrix` is itself a matrix with the same dimensions."
      ]
    },
    {
      "cell_type": "code",
      "metadata": {
        "id": "Or7biKeJ_-5B"
      },
      "source": [
        "# Compute gradients\n",
        "loss.backward()"
      ],
      "execution_count": 11,
      "outputs": []
    },
    {
      "cell_type": "code",
      "metadata": {
        "colab": {
          "base_uri": "https://localhost:8080/"
        },
        "id": "Kh5dGEaK_Atg",
        "outputId": "e7770019-9607-4814-cce4-670805058e16"
      },
      "source": [
        "# Gradients for weights\n",
        "print(w)\n",
        "print(w.grad)"
      ],
      "execution_count": 12,
      "outputs": [
        {
          "output_type": "stream",
          "text": [
            "tensor([[ 0.3367,  0.3359,  1.1855],\n",
            "        [-1.0399,  0.3834, -1.6653]], requires_grad=True)\n",
            "tensor([[  4090.8342,   3593.0676,   2445.6733],\n",
            "        [-19902.5156, -21276.4180, -13362.2637]])\n"
          ],
          "name": "stdout"
        }
      ]
    },
    {
      "cell_type": "markdown",
      "metadata": {
        "id": "ZwLFsIzYAQUC"
      },
      "source": [
        "# **Adjust weights and biases to reduce the loss**\n",
        "\n",
        "We multiply the gradients with a very small number `(10^-5 in this case)` to ensure that we don't modify the weights by a very large amount. We want to take a small step in the downhill direction of the gradient, not a giant leap. This number is called the `learning rate` of the algorithm.\n",
        "\n",
        "We use `torch.no_grad` to indicate to PyTorch that we shouldn't track, calculate, or modify gradients while updating the `weights and biases`."
      ]
    },
    {
      "cell_type": "code",
      "metadata": {
        "colab": {
          "base_uri": "https://localhost:8080/"
        },
        "id": "Zlj3MLhD_fby",
        "outputId": "e80148f8-c55d-435b-fe1d-766bbbaf497e"
      },
      "source": [
        "# Let's verify that the loss is actually lower\n",
        "loss = mse(preds, targets)\n",
        "print(loss)"
      ],
      "execution_count": 13,
      "outputs": [
        {
          "output_type": "stream",
          "text": [
            "tensor(30108.3281, grad_fn=<DivBackward0>)\n"
          ],
          "name": "stdout"
        }
      ]
    },
    {
      "cell_type": "markdown",
      "metadata": {
        "id": "D7IZGVYcAucx"
      },
      "source": [
        "Before we proceed, we reset the gradients to zero by invoking the `.zero_() `method. We need to do this because PyTorch accumulates gradients. Otherwise, the next time we invoke `.backward` on the loss, the new gradient values are added to the existing gradients, which may lead to unexpected results."
      ]
    },
    {
      "cell_type": "code",
      "metadata": {
        "colab": {
          "base_uri": "https://localhost:8080/"
        },
        "id": "oL9ZG-zfAl86",
        "outputId": "8949764f-ccdd-4569-9b22-26ec07a679ba"
      },
      "source": [
        "w.grad.zero_()\n",
        "b.grad.zero_()\n",
        "print(w.grad)\n",
        "print(b.grad)"
      ],
      "execution_count": 14,
      "outputs": [
        {
          "output_type": "stream",
          "text": [
            "tensor([[0., 0., 0.],\n",
            "        [0., 0., 0.]])\n",
            "tensor([0., 0.])\n"
          ],
          "name": "stdout"
        }
      ]
    },
    {
      "cell_type": "markdown",
      "metadata": {
        "id": "6GbB0y1zA-D3"
      },
      "source": [
        "# **Train the model using gradient descent**"
      ]
    },
    {
      "cell_type": "code",
      "metadata": {
        "colab": {
          "base_uri": "https://localhost:8080/"
        },
        "id": "_zlSICNkA1uQ",
        "outputId": "d3451930-6d59-4d53-bf49-3f6799c9df0e"
      },
      "source": [
        "# Generate predictions\n",
        "preds = model(inputs)\n",
        "print(preds)"
      ],
      "execution_count": 15,
      "outputs": [
        {
          "output_type": "stream",
          "text": [
            "tensor([[  99.5437, -121.4546],\n",
            "        [ 137.5527, -167.0931],\n",
            "        [ 144.5433, -135.3035],\n",
            "        [  94.1348, -150.8222],\n",
            "        [ 139.9446, -151.1398]], grad_fn=<AddBackward0>)\n"
          ],
          "name": "stdout"
        }
      ]
    },
    {
      "cell_type": "code",
      "metadata": {
        "colab": {
          "base_uri": "https://localhost:8080/"
        },
        "id": "85YuYmjhBI_A",
        "outputId": "8f6f8d81-d46a-4cda-f20c-df86b2200c4c"
      },
      "source": [
        "# Calculate the loss\n",
        "loss = mse(preds, targets)\n",
        "print(loss)"
      ],
      "execution_count": 16,
      "outputs": [
        {
          "output_type": "stream",
          "text": [
            "tensor(30108.3281, grad_fn=<DivBackward0>)\n"
          ],
          "name": "stdout"
        }
      ]
    },
    {
      "cell_type": "code",
      "metadata": {
        "colab": {
          "base_uri": "https://localhost:8080/"
        },
        "id": "DL-rCSWCBL7Q",
        "outputId": "53174676-2cce-4c21-9b70-be1a1d99fa7e"
      },
      "source": [
        "# Compute gradients\n",
        "loss.backward()\n",
        "print(w.grad)\n",
        "print(b.grad)"
      ],
      "execution_count": 17,
      "outputs": [
        {
          "output_type": "stream",
          "text": [
            "tensor([[  4090.8342,   3593.0676,   2445.6733],\n",
            "        [-19902.5156, -21276.4180, -13362.2637]])\n",
            "tensor([  46.9438, -237.1627])\n"
          ],
          "name": "stdout"
        }
      ]
    },
    {
      "cell_type": "code",
      "metadata": {
        "id": "ISJi-rTeBRsw"
      },
      "source": [
        "# Adjust weights & reset gradients\n",
        "with torch.no_grad():\n",
        "    w -= w.grad * 1e-5\n",
        "    b -= b.grad * 1e-5\n",
        "    w.grad.zero_()\n",
        "    b.grad.zero_()"
      ],
      "execution_count": 18,
      "outputs": []
    },
    {
      "cell_type": "code",
      "metadata": {
        "colab": {
          "base_uri": "https://localhost:8080/"
        },
        "id": "OnIZQJSPBUh_",
        "outputId": "2c18281f-8c32-4ff7-db25-627b00ff319c"
      },
      "source": [
        "print(w)\n",
        "print(b)"
      ],
      "execution_count": 19,
      "outputs": [
        {
          "output_type": "stream",
          "text": [
            "tensor([[ 0.2958,  0.2999,  1.1610],\n",
            "        [-0.8409,  0.5962, -1.5317]], requires_grad=True)\n",
            "tensor([1.4843, 0.3806], requires_grad=True)\n"
          ],
          "name": "stdout"
        }
      ]
    },
    {
      "cell_type": "code",
      "metadata": {
        "colab": {
          "base_uri": "https://localhost:8080/"
        },
        "id": "Gko7ROr5BWhf",
        "outputId": "47450ae5-a449-4382-a656-66cabde26bd4"
      },
      "source": [
        "# Calculate loss\n",
        "preds = model(inputs)\n",
        "loss = mse(preds, targets)\n",
        "print(loss)"
      ],
      "execution_count": 20,
      "outputs": [
        {
          "output_type": "stream",
          "text": [
            "tensor(20429.6406, grad_fn=<DivBackward0>)\n"
          ],
          "name": "stdout"
        }
      ]
    },
    {
      "cell_type": "markdown",
      "metadata": {
        "id": "AZlgx4E6Bbtl"
      },
      "source": [
        "# **Train model on Multiple epoch**"
      ]
    },
    {
      "cell_type": "code",
      "metadata": {
        "id": "LqILDlndBYmf"
      },
      "source": [
        "# Train for 100 epochs\n",
        "for i in range(100):\n",
        "    preds = model(inputs)\n",
        "    loss = mse(preds, targets)\n",
        "    loss.backward()\n",
        "    with torch.no_grad():\n",
        "        w -= w.grad * 1e-5\n",
        "        b -= b.grad * 1e-5\n",
        "        w.grad.zero_()\n",
        "        b.grad.zero_()"
      ],
      "execution_count": 21,
      "outputs": []
    },
    {
      "cell_type": "code",
      "metadata": {
        "colab": {
          "base_uri": "https://localhost:8080/"
        },
        "id": "BmuMROkPBlbP",
        "outputId": "193bc44e-b54b-4010-f316-7d448364c3a9"
      },
      "source": [
        "# Calculate loss\n",
        "preds = model(inputs)\n",
        "loss = mse(preds, targets)\n",
        "print(loss)"
      ],
      "execution_count": 22,
      "outputs": [
        {
          "output_type": "stream",
          "text": [
            "tensor(234.1776, grad_fn=<DivBackward0>)\n"
          ],
          "name": "stdout"
        }
      ]
    },
    {
      "cell_type": "code",
      "metadata": {
        "colab": {
          "base_uri": "https://localhost:8080/"
        },
        "id": "Y-TdYaefBna-",
        "outputId": "41050934-1cd2-464a-80c9-0dc366bc1bd1"
      },
      "source": [
        "# Predictions\n",
        "preds"
      ],
      "execution_count": 23,
      "outputs": [
        {
          "output_type": "execute_result",
          "data": {
            "text/plain": [
              "tensor([[ 60.6193,  71.5186],\n",
              "        [ 87.7972,  87.7463],\n",
              "        [100.4305, 160.4081],\n",
              "        [ 40.0470,  42.2798],\n",
              "        [100.8700,  93.6597]], grad_fn=<AddBackward0>)"
            ]
          },
          "metadata": {
            "tags": []
          },
          "execution_count": 23
        }
      ]
    },
    {
      "cell_type": "code",
      "metadata": {
        "colab": {
          "base_uri": "https://localhost:8080/"
        },
        "id": "Bmq1g437Bp7P",
        "outputId": "419ad441-6856-476b-c764-eaf1a9d01056"
      },
      "source": [
        "# Targets\n",
        "targets"
      ],
      "execution_count": 24,
      "outputs": [
        {
          "output_type": "execute_result",
          "data": {
            "text/plain": [
              "tensor([[ 56.,  70.],\n",
              "        [ 81., 101.],\n",
              "        [119., 133.],\n",
              "        [ 22.,  37.],\n",
              "        [103., 119.]])"
            ]
          },
          "metadata": {
            "tags": []
          },
          "execution_count": 24
        }
      ]
    },
    {
      "cell_type": "markdown",
      "metadata": {
        "id": "DKue6GVjCCBL"
      },
      "source": [
        "# **Linear regression using PyTorch built-ins**"
      ]
    },
    {
      "cell_type": "code",
      "metadata": {
        "id": "aHQdw2z7BsO-"
      },
      "source": [
        "import torch.nn as nn"
      ],
      "execution_count": 25,
      "outputs": []
    },
    {
      "cell_type": "code",
      "metadata": {
        "id": "DWGALT5gEzGy"
      },
      "source": [
        "# Input (temp, rainfall, humidity)\n",
        "inputs = np.array([[73, 67, 43], \n",
        "                   [91, 88, 64], \n",
        "                   [87, 134, 58], \n",
        "                   [102, 43, 37], \n",
        "                   [69, 96, 70], \n",
        "                   [74, 66, 43], \n",
        "                   [91, 87, 65], \n",
        "                   [88, 134, 59], \n",
        "                   [101, 44, 37], \n",
        "                   [68, 96, 71], \n",
        "                   [73, 66, 44], \n",
        "                   [92, 87, 64], \n",
        "                   [87, 135, 57], \n",
        "                   [103, 43, 36], \n",
        "                   [68, 97, 70]], \n",
        "                  dtype='float32')\n",
        "\n",
        "# Targets (apples, oranges)\n",
        "targets = np.array([[56, 70], \n",
        "                    [81, 101], \n",
        "                    [119, 133], \n",
        "                    [22, 37], \n",
        "                    [103, 119],\n",
        "                    [57, 69], \n",
        "                    [80, 102], \n",
        "                    [118, 132], \n",
        "                    [21, 38], \n",
        "                    [104, 118], \n",
        "                    [57, 69], \n",
        "                    [82, 100], \n",
        "                    [118, 134], \n",
        "                    [20, 38], \n",
        "                    [102, 120]], \n",
        "                   dtype='float32')\n",
        "\n",
        "inputs = torch.from_numpy(inputs)\n",
        "targets = torch.from_numpy(targets)"
      ],
      "execution_count": 26,
      "outputs": []
    },
    {
      "cell_type": "code",
      "metadata": {
        "colab": {
          "base_uri": "https://localhost:8080/"
        },
        "id": "Glj_N1JxE4wO",
        "outputId": "5f61d646-044b-4c35-8465-c93ea4172d8d"
      },
      "source": [
        "inputs"
      ],
      "execution_count": 27,
      "outputs": [
        {
          "output_type": "execute_result",
          "data": {
            "text/plain": [
              "tensor([[ 73.,  67.,  43.],\n",
              "        [ 91.,  88.,  64.],\n",
              "        [ 87., 134.,  58.],\n",
              "        [102.,  43.,  37.],\n",
              "        [ 69.,  96.,  70.],\n",
              "        [ 74.,  66.,  43.],\n",
              "        [ 91.,  87.,  65.],\n",
              "        [ 88., 134.,  59.],\n",
              "        [101.,  44.,  37.],\n",
              "        [ 68.,  96.,  71.],\n",
              "        [ 73.,  66.,  44.],\n",
              "        [ 92.,  87.,  64.],\n",
              "        [ 87., 135.,  57.],\n",
              "        [103.,  43.,  36.],\n",
              "        [ 68.,  97.,  70.]])"
            ]
          },
          "metadata": {
            "tags": []
          },
          "execution_count": 27
        }
      ]
    },
    {
      "cell_type": "markdown",
      "metadata": {
        "id": "V30q9dQIE_2j"
      },
      "source": [
        "# Dataset and DataLoader\n",
        "\n",
        "* We'll create a `TensorDataset`, which allows access to rows from inputs and \n",
        "targets as tuples, and provides standard APIs for working with many different types of datasets in PyTorch.\n",
        "\n",
        "* We'll also create a `DataLoader`, which can split the data into batches of a predefined size while training. It also provides other utilities like shuffling and random sampling of the data.\n"
      ]
    },
    {
      "cell_type": "code",
      "metadata": {
        "id": "Vri0Hl8DE9a-"
      },
      "source": [
        "from torch.utils.data import TensorDataset"
      ],
      "execution_count": 28,
      "outputs": []
    },
    {
      "cell_type": "code",
      "metadata": {
        "colab": {
          "base_uri": "https://localhost:8080/"
        },
        "id": "7MgT2mKLFsdu",
        "outputId": "84db1965-da97-427a-e959-c30805211104"
      },
      "source": [
        "# Define dataset\n",
        "train_ds = TensorDataset(inputs, targets)\n",
        "train_ds[0:3]"
      ],
      "execution_count": 29,
      "outputs": [
        {
          "output_type": "execute_result",
          "data": {
            "text/plain": [
              "(tensor([[ 73.,  67.,  43.],\n",
              "         [ 91.,  88.,  64.],\n",
              "         [ 87., 134.,  58.]]), tensor([[ 56.,  70.],\n",
              "         [ 81., 101.],\n",
              "         [119., 133.]]))"
            ]
          },
          "metadata": {
            "tags": []
          },
          "execution_count": 29
        }
      ]
    },
    {
      "cell_type": "code",
      "metadata": {
        "id": "5HImDh8lGNd5"
      },
      "source": [
        "from torch.utils.data import DataLoader\n"
      ],
      "execution_count": 30,
      "outputs": []
    },
    {
      "cell_type": "code",
      "metadata": {
        "id": "AOqIVcxkFuE-"
      },
      "source": [
        "# Define data loader\n",
        "batch_size = 5\n",
        "train_dl = DataLoader(train_ds, batch_size, shuffle=True)"
      ],
      "execution_count": 31,
      "outputs": []
    },
    {
      "cell_type": "code",
      "metadata": {
        "colab": {
          "base_uri": "https://localhost:8080/"
        },
        "id": "MCLZFuNMGHCu",
        "outputId": "351392b7-da6d-4de2-9b79-46b99ea94350"
      },
      "source": [
        "for xb, yb in train_dl:\n",
        "    print(xb)\n",
        "    print(yb)\n",
        "    break"
      ],
      "execution_count": 32,
      "outputs": [
        {
          "output_type": "stream",
          "text": [
            "tensor([[ 92.,  87.,  64.],\n",
            "        [101.,  44.,  37.],\n",
            "        [ 68.,  96.,  71.],\n",
            "        [ 91.,  88.,  64.],\n",
            "        [ 74.,  66.,  43.]])\n",
            "tensor([[ 82., 100.],\n",
            "        [ 21.,  38.],\n",
            "        [104., 118.],\n",
            "        [ 81., 101.],\n",
            "        [ 57.,  69.]])\n"
          ],
          "name": "stdout"
        }
      ]
    },
    {
      "cell_type": "markdown",
      "metadata": {
        "id": "KlKWFcDpGcHJ"
      },
      "source": [
        "# **nn.Linear**\n",
        "Instead of initializing the weights & biases manually, we can define the model using the nn.Linear class from PyTorch, which does it automatically."
      ]
    },
    {
      "cell_type": "code",
      "metadata": {
        "colab": {
          "base_uri": "https://localhost:8080/"
        },
        "id": "UqVXtQguGT1N",
        "outputId": "215404a6-189e-46f7-c124-23557bfed4ad"
      },
      "source": [
        "# Define model\n",
        "model = nn.Linear(3, 2)\n",
        "print(model.weight)\n",
        "print(model.bias)"
      ],
      "execution_count": 33,
      "outputs": [
        {
          "output_type": "stream",
          "text": [
            "Parameter containing:\n",
            "tensor([[-0.2538,  0.0064, -0.3498],\n",
            "        [-0.2782,  0.0660,  0.4008]], requires_grad=True)\n",
            "Parameter containing:\n",
            "tensor([0.2426, 0.4197], requires_grad=True)\n"
          ],
          "name": "stdout"
        }
      ]
    },
    {
      "cell_type": "code",
      "metadata": {
        "colab": {
          "base_uri": "https://localhost:8080/"
        },
        "id": "KrPjA9ruGkAN",
        "outputId": "30c1b726-78a4-43f3-9e55-1cfef9510b09"
      },
      "source": [
        "# Parameters\n",
        "list(model.parameters())"
      ],
      "execution_count": 34,
      "outputs": [
        {
          "output_type": "execute_result",
          "data": {
            "text/plain": [
              "[Parameter containing:\n",
              " tensor([[-0.2538,  0.0064, -0.3498],\n",
              "         [-0.2782,  0.0660,  0.4008]], requires_grad=True),\n",
              " Parameter containing:\n",
              " tensor([0.2426, 0.4197], requires_grad=True)]"
            ]
          },
          "metadata": {
            "tags": []
          },
          "execution_count": 34
        }
      ]
    },
    {
      "cell_type": "code",
      "metadata": {
        "colab": {
          "base_uri": "https://localhost:8080/"
        },
        "id": "fTraTLDTGqmN",
        "outputId": "1ad426ad-77f9-48ec-af8a-eb568e4da257"
      },
      "source": [
        "# Generate predictions\n",
        "preds = model(inputs)\n",
        "preds"
      ],
      "execution_count": 35,
      "outputs": [
        {
          "output_type": "execute_result",
          "data": {
            "text/plain": [
              "tensor([[-32.8939,   1.7721],\n",
              "        [-44.6723,   6.5688],\n",
              "        [-41.2632,   8.3133],\n",
              "        [-38.3094, -10.2841],\n",
              "        [-41.1360,  15.6216],\n",
              "        [-33.1541,   1.4280],\n",
              "        [-45.0285,   6.9036],\n",
              "        [-41.8667,   8.4360],\n",
              "        [-38.0492,  -9.9399],\n",
              "        [-41.2320,  16.3006],\n",
              "        [-33.2501,   2.1069],\n",
              "        [-44.9325,   6.2246],\n",
              "        [-40.9070,   7.9785],\n",
              "        [-38.2135, -10.9631],\n",
              "        [-40.8758,  15.9658]], grad_fn=<AddmmBackward>)"
            ]
          },
          "metadata": {
            "tags": []
          },
          "execution_count": 35
        }
      ]
    },
    {
      "cell_type": "markdown",
      "metadata": {
        "id": "o74hfjsgHX-u"
      },
      "source": [
        "# **Loss Function**\n",
        "Instead of defining a loss function manually, we can use the built-in loss function `mse_loss`."
      ]
    },
    {
      "cell_type": "code",
      "metadata": {
        "id": "l-0MMpamGtTc"
      },
      "source": [
        "# Import nn.functional\n",
        "import torch.nn.functional as F"
      ],
      "execution_count": 36,
      "outputs": []
    },
    {
      "cell_type": "code",
      "metadata": {
        "id": "yNVtecYJHgFN"
      },
      "source": [
        "# Define loss function\n",
        "loss_fn = F.mse_loss"
      ],
      "execution_count": 37,
      "outputs": []
    },
    {
      "cell_type": "code",
      "metadata": {
        "colab": {
          "base_uri": "https://localhost:8080/"
        },
        "id": "DRlkNW-MHhPt",
        "outputId": "555f3216-07f0-4e34-d1f3-dce1e2d4e597"
      },
      "source": [
        "loss = loss_fn(model(inputs), targets)\n",
        "print(loss)"
      ],
      "execution_count": 38,
      "outputs": [
        {
          "output_type": "stream",
          "text": [
            "tensor(11564.3379, grad_fn=<MseLossBackward>)\n"
          ],
          "name": "stdout"
        }
      ]
    },
    {
      "cell_type": "markdown",
      "metadata": {
        "id": "REFmrO8EH1MR"
      },
      "source": [
        "# **Optimizer**\n",
        "\n",
        "* Instead of manually manipulating the model's `weights & biases` using gradients, we can use the optimizer `optim.SGD`. SGD is short for \"stochastic gradient descent\". The term stochastic indicates that samples are selected in random batches instead of as a single group.\n",
        "\n",
        "* **Note:-** that `model.parameters()` is passed as an argument to `optim.SGD` so that the optimizer knows which matrices should be modified during the update step. Also, we can specify a `learning rate` that controls the amount by which the parameters are modified."
      ]
    },
    {
      "cell_type": "code",
      "metadata": {
        "id": "gOqxJjoaHl0t"
      },
      "source": [
        "# Define optimizer\n",
        "opt = torch.optim.SGD(model.parameters(), lr=1e-5)"
      ],
      "execution_count": 39,
      "outputs": []
    },
    {
      "cell_type": "code",
      "metadata": {
        "colab": {
          "base_uri": "https://localhost:8080/"
        },
        "id": "qQeoFKI7RneZ",
        "outputId": "68c7fb04-35e6-4cf4-efec-ab9f62d6c18f"
      },
      "source": [
        "opt"
      ],
      "execution_count": 40,
      "outputs": [
        {
          "output_type": "execute_result",
          "data": {
            "text/plain": [
              "SGD (\n",
              "Parameter Group 0\n",
              "    dampening: 0\n",
              "    lr: 1e-05\n",
              "    momentum: 0\n",
              "    nesterov: False\n",
              "    weight_decay: 0\n",
              ")"
            ]
          },
          "metadata": {
            "tags": []
          },
          "execution_count": 40
        }
      ]
    },
    {
      "cell_type": "markdown",
      "metadata": {
        "id": "-fsYNTLI3EM5"
      },
      "source": [
        "# **Tain the Model**"
      ]
    },
    {
      "cell_type": "code",
      "metadata": {
        "id": "KI0QtFPO29Kx"
      },
      "source": [
        "# Utility function to train the model\n",
        "def fit(num_epochs, model, loss_fn, opt, train_dl):\n",
        "    \n",
        "    # Repeat for given number of epochs\n",
        "    for epoch in range(num_epochs):\n",
        "        \n",
        "        # Train with batches of data\n",
        "        for xb,yb in train_dl:\n",
        "            \n",
        "            # 1. Generate predictions\n",
        "            pred = model(xb)\n",
        "            \n",
        "            # 2. Calculate loss\n",
        "            loss = loss_fn(pred, yb)\n",
        "            \n",
        "            # 3. Compute gradients\n",
        "            loss.backward()\n",
        "            \n",
        "            # 4. Update parameters using gradients\n",
        "            opt.step()\n",
        "            \n",
        "            # 5. Reset the gradients to zero\n",
        "            opt.zero_grad()\n",
        "        \n",
        "        # Print the progress\n",
        "        if (epoch+1) % 10 == 0:\n",
        "            print('Epoch [{}/{}], Loss: {:.4f}'.format(epoch+1, num_epochs, loss.item()))"
      ],
      "execution_count": 41,
      "outputs": []
    },
    {
      "cell_type": "code",
      "metadata": {
        "colab": {
          "base_uri": "https://localhost:8080/"
        },
        "id": "Na9e2n6A3qJg",
        "outputId": "31c53f87-cdc9-4461-dce2-e9c16b3a9ec8"
      },
      "source": [
        "# let fit the model\n",
        "fit(100, model, loss_fn, opt, train_dl)"
      ],
      "execution_count": 42,
      "outputs": [
        {
          "output_type": "stream",
          "text": [
            "Epoch [10/100], Loss: 122.3226\n",
            "Epoch [20/100], Loss: 245.3594\n",
            "Epoch [30/100], Loss: 175.2832\n",
            "Epoch [40/100], Loss: 66.1374\n",
            "Epoch [50/100], Loss: 57.4019\n",
            "Epoch [60/100], Loss: 46.5265\n",
            "Epoch [70/100], Loss: 39.6761\n",
            "Epoch [80/100], Loss: 54.5286\n",
            "Epoch [90/100], Loss: 15.6225\n",
            "Epoch [100/100], Loss: 15.1176\n"
          ],
          "name": "stdout"
        }
      ]
    },
    {
      "cell_type": "code",
      "metadata": {
        "colab": {
          "base_uri": "https://localhost:8080/"
        },
        "id": "UoXyHzuK3v0A",
        "outputId": "88e947c8-cc2c-41e8-bfe8-0fc3ca614642"
      },
      "source": [
        "# Generate predictions\n",
        "preds = model(inputs)\n",
        "preds"
      ],
      "execution_count": 43,
      "outputs": [
        {
          "output_type": "execute_result",
          "data": {
            "text/plain": [
              "tensor([[ 58.1562,  71.1319],\n",
              "        [ 79.1154, 100.0030],\n",
              "        [122.4791, 132.6697],\n",
              "        [ 27.5352,  41.6490],\n",
              "        [ 92.9443, 115.3914],\n",
              "        [ 56.9838,  70.1359],\n",
              "        [ 78.3931,  99.9706],\n",
              "        [122.4921, 133.2240],\n",
              "        [ 28.7076,  42.6451],\n",
              "        [ 93.3944, 116.3550],\n",
              "        [ 57.4339,  71.0995],\n",
              "        [ 77.9430,  99.0069],\n",
              "        [123.2015, 132.7021],\n",
              "        [ 27.0851,  40.6853],\n",
              "        [ 94.1168, 116.3874]], grad_fn=<AddmmBackward>)"
            ]
          },
          "metadata": {
            "tags": []
          },
          "execution_count": 43
        }
      ]
    },
    {
      "cell_type": "code",
      "metadata": {
        "colab": {
          "base_uri": "https://localhost:8080/"
        },
        "id": "-z_FnLnb3y0v",
        "outputId": "5b66a993-04f6-4922-acdb-dd0bdedbd91a"
      },
      "source": [
        "# Compare with targets\n",
        "targets"
      ],
      "execution_count": 44,
      "outputs": [
        {
          "output_type": "execute_result",
          "data": {
            "text/plain": [
              "tensor([[ 56.,  70.],\n",
              "        [ 81., 101.],\n",
              "        [119., 133.],\n",
              "        [ 22.,  37.],\n",
              "        [103., 119.],\n",
              "        [ 57.,  69.],\n",
              "        [ 80., 102.],\n",
              "        [118., 132.],\n",
              "        [ 21.,  38.],\n",
              "        [104., 118.],\n",
              "        [ 57.,  69.],\n",
              "        [ 82., 100.],\n",
              "        [118., 134.],\n",
              "        [ 20.,  38.],\n",
              "        [102., 120.]])"
            ]
          },
          "metadata": {
            "tags": []
          },
          "execution_count": 44
        }
      ]
    },
    {
      "cell_type": "code",
      "metadata": {
        "colab": {
          "base_uri": "https://localhost:8080/"
        },
        "id": "8eGxh-dx30v_",
        "outputId": "2b140dc5-e2be-4fc5-b8a2-e55c38954607"
      },
      "source": [
        "# single prediction value\n",
        "model(torch.tensor([[75, 63, 44.]]))"
      ],
      "execution_count": 45,
      "outputs": [
        {
          "output_type": "execute_result",
          "data": {
            "text/plain": [
              "tensor([[54.1351, 68.3161]], grad_fn=<AddmmBackward>)"
            ]
          },
          "metadata": {
            "tags": []
          },
          "execution_count": 45
        }
      ]
    },
    {
      "cell_type": "markdown",
      "metadata": {
        "id": "y9-PHIl49Xdo"
      },
      "source": [
        "The predicted yield of apples is 55.6 tons per hectare, and that of oranges is 68.5 tons per hectare."
      ]
    },
    {
      "cell_type": "markdown",
      "metadata": {
        "id": "Q7e6OmM89iJL"
      },
      "source": [
        "# **Thank You!**"
      ]
    }
  ]
}