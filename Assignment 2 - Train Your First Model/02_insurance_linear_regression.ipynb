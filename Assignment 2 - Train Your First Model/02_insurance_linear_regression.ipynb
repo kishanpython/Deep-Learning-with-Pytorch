{
  "nbformat": 4,
  "nbformat_minor": 0,
  "metadata": {
    "kernelspec": {
      "display_name": "Python 3",
      "language": "python",
      "name": "python3"
    },
    "language_info": {
      "codemirror_mode": {
        "name": "ipython",
        "version": 3
      },
      "file_extension": ".py",
      "mimetype": "text/x-python",
      "name": "python",
      "nbconvert_exporter": "python",
      "pygments_lexer": "ipython3",
      "version": "3.8.5"
    },
    "colab": {
      "name": "02-insurance-linear.ipynb",
      "provenance": []
    },
    "widgets": {
      "application/vnd.jupyter.widget-state+json": {
        "9fe39f5621264e929188fd183e7ab63c": {
          "model_module": "@jupyter-widgets/controls",
          "model_name": "HBoxModel",
          "state": {
            "_view_name": "HBoxView",
            "_dom_classes": [],
            "_model_name": "HBoxModel",
            "_view_module": "@jupyter-widgets/controls",
            "_model_module_version": "1.5.0",
            "_view_count": null,
            "_view_module_version": "1.5.0",
            "box_style": "",
            "layout": "IPY_MODEL_982f1c46f91140e78c3629f4ad56c09d",
            "_model_module": "@jupyter-widgets/controls",
            "children": [
              "IPY_MODEL_7f552bdb0b8c490c9c137f0d6b259181",
              "IPY_MODEL_b51657b566634418a92e59603740253d"
            ]
          }
        },
        "982f1c46f91140e78c3629f4ad56c09d": {
          "model_module": "@jupyter-widgets/base",
          "model_name": "LayoutModel",
          "state": {
            "_view_name": "LayoutView",
            "grid_template_rows": null,
            "right": null,
            "justify_content": null,
            "_view_module": "@jupyter-widgets/base",
            "overflow": null,
            "_model_module_version": "1.2.0",
            "_view_count": null,
            "flex_flow": null,
            "width": null,
            "min_width": null,
            "border": null,
            "align_items": null,
            "bottom": null,
            "_model_module": "@jupyter-widgets/base",
            "top": null,
            "grid_column": null,
            "overflow_y": null,
            "overflow_x": null,
            "grid_auto_flow": null,
            "grid_area": null,
            "grid_template_columns": null,
            "flex": null,
            "_model_name": "LayoutModel",
            "justify_items": null,
            "grid_row": null,
            "max_height": null,
            "align_content": null,
            "visibility": null,
            "align_self": null,
            "height": null,
            "min_height": null,
            "padding": null,
            "grid_auto_rows": null,
            "grid_gap": null,
            "max_width": null,
            "order": null,
            "_view_module_version": "1.2.0",
            "grid_template_areas": null,
            "object_position": null,
            "object_fit": null,
            "grid_auto_columns": null,
            "margin": null,
            "display": null,
            "left": null
          }
        },
        "7f552bdb0b8c490c9c137f0d6b259181": {
          "model_module": "@jupyter-widgets/controls",
          "model_name": "FloatProgressModel",
          "state": {
            "_view_name": "ProgressView",
            "style": "IPY_MODEL_30f7a0f8332e449380a93dccc32cc91c",
            "_dom_classes": [],
            "description": "",
            "_model_name": "FloatProgressModel",
            "bar_style": "info",
            "max": 1,
            "_view_module": "@jupyter-widgets/controls",
            "_model_module_version": "1.5.0",
            "value": 1,
            "_view_count": null,
            "_view_module_version": "1.5.0",
            "orientation": "horizontal",
            "min": 0,
            "description_tooltip": null,
            "_model_module": "@jupyter-widgets/controls",
            "layout": "IPY_MODEL_90ba5dcf45de44a2877952a7d1db4fb3"
          }
        },
        "b51657b566634418a92e59603740253d": {
          "model_module": "@jupyter-widgets/controls",
          "model_name": "HTMLModel",
          "state": {
            "_view_name": "HTMLView",
            "style": "IPY_MODEL_23ad3cb47b0e495b8601b58739234fe9",
            "_dom_classes": [],
            "description": "",
            "_model_name": "HTMLModel",
            "placeholder": "​",
            "_view_module": "@jupyter-widgets/controls",
            "_model_module_version": "1.5.0",
            "value": " 57344/? [00:20&lt;00:00, 308877.96it/s]",
            "_view_count": null,
            "_view_module_version": "1.5.0",
            "description_tooltip": null,
            "_model_module": "@jupyter-widgets/controls",
            "layout": "IPY_MODEL_eb6ceff760f84193964fa9ec0c39c10f"
          }
        },
        "30f7a0f8332e449380a93dccc32cc91c": {
          "model_module": "@jupyter-widgets/controls",
          "model_name": "ProgressStyleModel",
          "state": {
            "_view_name": "StyleView",
            "_model_name": "ProgressStyleModel",
            "description_width": "initial",
            "_view_module": "@jupyter-widgets/base",
            "_model_module_version": "1.5.0",
            "_view_count": null,
            "_view_module_version": "1.2.0",
            "bar_color": null,
            "_model_module": "@jupyter-widgets/controls"
          }
        },
        "90ba5dcf45de44a2877952a7d1db4fb3": {
          "model_module": "@jupyter-widgets/base",
          "model_name": "LayoutModel",
          "state": {
            "_view_name": "LayoutView",
            "grid_template_rows": null,
            "right": null,
            "justify_content": null,
            "_view_module": "@jupyter-widgets/base",
            "overflow": null,
            "_model_module_version": "1.2.0",
            "_view_count": null,
            "flex_flow": null,
            "width": null,
            "min_width": null,
            "border": null,
            "align_items": null,
            "bottom": null,
            "_model_module": "@jupyter-widgets/base",
            "top": null,
            "grid_column": null,
            "overflow_y": null,
            "overflow_x": null,
            "grid_auto_flow": null,
            "grid_area": null,
            "grid_template_columns": null,
            "flex": null,
            "_model_name": "LayoutModel",
            "justify_items": null,
            "grid_row": null,
            "max_height": null,
            "align_content": null,
            "visibility": null,
            "align_self": null,
            "height": null,
            "min_height": null,
            "padding": null,
            "grid_auto_rows": null,
            "grid_gap": null,
            "max_width": null,
            "order": null,
            "_view_module_version": "1.2.0",
            "grid_template_areas": null,
            "object_position": null,
            "object_fit": null,
            "grid_auto_columns": null,
            "margin": null,
            "display": null,
            "left": null
          }
        },
        "23ad3cb47b0e495b8601b58739234fe9": {
          "model_module": "@jupyter-widgets/controls",
          "model_name": "DescriptionStyleModel",
          "state": {
            "_view_name": "StyleView",
            "_model_name": "DescriptionStyleModel",
            "description_width": "",
            "_view_module": "@jupyter-widgets/base",
            "_model_module_version": "1.5.0",
            "_view_count": null,
            "_view_module_version": "1.2.0",
            "_model_module": "@jupyter-widgets/controls"
          }
        },
        "eb6ceff760f84193964fa9ec0c39c10f": {
          "model_module": "@jupyter-widgets/base",
          "model_name": "LayoutModel",
          "state": {
            "_view_name": "LayoutView",
            "grid_template_rows": null,
            "right": null,
            "justify_content": null,
            "_view_module": "@jupyter-widgets/base",
            "overflow": null,
            "_model_module_version": "1.2.0",
            "_view_count": null,
            "flex_flow": null,
            "width": null,
            "min_width": null,
            "border": null,
            "align_items": null,
            "bottom": null,
            "_model_module": "@jupyter-widgets/base",
            "top": null,
            "grid_column": null,
            "overflow_y": null,
            "overflow_x": null,
            "grid_auto_flow": null,
            "grid_area": null,
            "grid_template_columns": null,
            "flex": null,
            "_model_name": "LayoutModel",
            "justify_items": null,
            "grid_row": null,
            "max_height": null,
            "align_content": null,
            "visibility": null,
            "align_self": null,
            "height": null,
            "min_height": null,
            "padding": null,
            "grid_auto_rows": null,
            "grid_gap": null,
            "max_width": null,
            "order": null,
            "_view_module_version": "1.2.0",
            "grid_template_areas": null,
            "object_position": null,
            "object_fit": null,
            "grid_auto_columns": null,
            "margin": null,
            "display": null,
            "left": null
          }
        }
      }
    }
  },
  "cells": [
    {
      "cell_type": "code",
      "metadata": {
        "colab": {
          "base_uri": "https://localhost:8080/"
        },
        "id": "vVJss1dLPl4v",
        "outputId": "1e621c21-3f79-4fb1-ed96-2c68aec3afa4"
      },
      "source": [
        "# Jovian Commit Essentials\n",
        "# Please retain and execute this cell without modifying the contents for `jovian.commit` to work\n",
        "!pip install jovian --upgrade -q\n",
        "import jovian\n",
        "jovian.utils.colab.set_colab_file_id('1MBsVs0qCQFjp73Cyx_aB_uUy7PSjpk55')"
      ],
      "execution_count": 1,
      "outputs": [
        {
          "output_type": "stream",
          "text": [
            "\u001b[?25l\r\u001b[K     |█████                           | 10kB 19.9MB/s eta 0:00:01\r\u001b[K     |██████████                      | 20kB 12.1MB/s eta 0:00:01\r\u001b[K     |██████████████▉                 | 30kB 8.2MB/s eta 0:00:01\r\u001b[K     |███████████████████▉            | 40kB 7.4MB/s eta 0:00:01\r\u001b[K     |████████████████████████▉       | 51kB 4.4MB/s eta 0:00:01\r\u001b[K     |█████████████████████████████▊  | 61kB 4.9MB/s eta 0:00:01\r\u001b[K     |████████████████████████████████| 71kB 3.4MB/s \n",
            "\u001b[?25h  Building wheel for uuid (setup.py) ... \u001b[?25l\u001b[?25hdone\n"
          ],
          "name": "stdout"
        }
      ]
    },
    {
      "cell_type": "markdown",
      "metadata": {
        "_cell_guid": "b1076dfc-b9ad-4769-8c92-a6c4dae69d19",
        "_uuid": "8f2839f25d086af736a60e9eeb907d3b93b6e0e5",
        "id": "zrJejDHtPl4w"
      },
      "source": [
        "# Insurance cost prediction using linear regression\n",
        "\n",
        "Make a submisson here: https://jovian.ai/learn/deep-learning-with-pytorch-zero-to-gans/assignment/assignment-2-train-your-first-model\n",
        "\n",
        "In this assignment we're going to use information like a person's age, sex, BMI, no. of children and smoking habit to predict the price of yearly medical bills. This kind of model is useful for insurance companies to determine the yearly insurance premium for a person. The dataset for this problem is taken from [Kaggle](https://www.kaggle.com/mirichoi0218/insurance).\n",
        "\n",
        "\n",
        "We will create a model with the following steps:\n",
        "1. Download and explore the dataset\n",
        "2. Prepare the dataset for training\n",
        "3. Create a linear regression model\n",
        "4. Train the model to fit the data\n",
        "5. Make predictions using the trained model\n",
        "\n",
        "\n",
        "This assignment builds upon the concepts from the first 2 lessons. It will help to review these Jupyter notebooks:\n",
        "- PyTorch basics: https://jovian.ai/aakashns/01-pytorch-basics\n",
        "- Linear Regression: https://jovian.ai/aakashns/02-linear-regression\n",
        "- Logistic Regression: https://jovian.ai/aakashns/03-logistic-regression\n",
        "- Linear regression (minimal): https://jovian.ai/aakashns/housing-linear-minimal\n",
        "- Logistic regression (minimal): https://jovian.ai/aakashns/mnist-logistic-minimal\n",
        "\n",
        "As you go through this notebook, you will find a **???** in certain places. Your job is to replace the **???** with appropriate code or values, to ensure that the notebook runs properly end-to-end . In some cases, you'll be required to choose some hyperparameters (learning rate, batch size etc.). Try to experiment with the hypeparameters to get the lowest loss.\n"
      ]
    },
    {
      "cell_type": "code",
      "metadata": {
        "id": "1i7BZhs3Pl4w"
      },
      "source": [
        "# Uncomment and run the appropriate command for your operating system, if required\n",
        "\n",
        "# Linux / Binder\n",
        "# !pip install numpy matplotlib pandas torch==1.7.0+cpu torchvision==0.8.1+cpu torchaudio==0.7.0 -f https://download.pytorch.org/whl/torch_stable.html\n",
        "\n",
        "# Windows\n",
        "# !pip install numpy matplotlib pandas torch==1.7.0+cpu torchvision==0.8.1+cpu torchaudio==0.7.0 -f https://download.pytorch.org/whl/torch_stable.html\n",
        "\n",
        "# MacOS\n",
        "# !pip install numpy matplotlib pandas torch torchvision torchaudio"
      ],
      "execution_count": null,
      "outputs": []
    },
    {
      "cell_type": "code",
      "metadata": {
        "id": "QEEedxZGPl4w"
      },
      "source": [
        "import torch\n",
        "import jovian\n",
        "import torchvision\n",
        "import torch.nn as nn\n",
        "import pandas as pd\n",
        "import matplotlib.pyplot as plt\n",
        "import torch.nn.functional as F\n",
        "from torchvision.datasets.utils import download_url\n",
        "from torch.utils.data import DataLoader, TensorDataset, random_split"
      ],
      "execution_count": 2,
      "outputs": []
    },
    {
      "cell_type": "code",
      "metadata": {
        "id": "LfTTg_VePl4w"
      },
      "source": [
        "project_name='02-insurance-linear-regression' # will be used by jovian.commit"
      ],
      "execution_count": 3,
      "outputs": []
    },
    {
      "cell_type": "markdown",
      "metadata": {
        "id": "PEPDmDhHPl4w"
      },
      "source": [
        "## Step 1: Download and explore the data\n",
        "\n",
        "Let us begin by downloading the data. We'll use the `download_url` function from PyTorch to get the data as a CSV (comma-separated values) file. "
      ]
    },
    {
      "cell_type": "code",
      "metadata": {
        "_cell_guid": "79c7e3d0-c299-4dcb-8224-4455121ee9b0",
        "_uuid": "d629ff2d2480ee46fbb7e2d37f6b5fab8052498a",
        "colab": {
          "base_uri": "https://localhost:8080/",
          "height": 66,
          "referenced_widgets": [
            "9fe39f5621264e929188fd183e7ab63c",
            "982f1c46f91140e78c3629f4ad56c09d",
            "7f552bdb0b8c490c9c137f0d6b259181",
            "b51657b566634418a92e59603740253d",
            "30f7a0f8332e449380a93dccc32cc91c",
            "90ba5dcf45de44a2877952a7d1db4fb3",
            "23ad3cb47b0e495b8601b58739234fe9",
            "eb6ceff760f84193964fa9ec0c39c10f"
          ]
        },
        "id": "ELveQamcPl4x",
        "outputId": "aae48e68-d5fc-49da-bab9-ec78888c4cd2"
      },
      "source": [
        "DATASET_URL = \"https://hub.jovian.ml/wp-content/uploads/2020/05/insurance.csv\"\n",
        "DATA_FILENAME = \"insurance.csv\"\n",
        "download_url(DATASET_URL, '.')"
      ],
      "execution_count": 4,
      "outputs": [
        {
          "output_type": "stream",
          "text": [
            "Downloading https://hub.jovian.ml/wp-content/uploads/2020/05/insurance.csv to ./insurance.csv\n"
          ],
          "name": "stdout"
        },
        {
          "output_type": "display_data",
          "data": {
            "application/vnd.jupyter.widget-view+json": {
              "model_id": "9fe39f5621264e929188fd183e7ab63c",
              "version_minor": 0,
              "version_major": 2
            },
            "text/plain": [
              "HBox(children=(FloatProgress(value=1.0, bar_style='info', max=1.0), HTML(value='')))"
            ]
          },
          "metadata": {
            "tags": []
          }
        }
      ]
    },
    {
      "cell_type": "markdown",
      "metadata": {
        "id": "g9M-hBEdPl4z"
      },
      "source": [
        "To load the dataset into memory, we'll use the `read_csv` function from the `pandas` library. The data will be loaded as a Pandas dataframe. See this short tutorial to learn more: https://data36.com/pandas-tutorial-1-basics-reading-data-files-dataframes-data-selection/"
      ]
    },
    {
      "cell_type": "code",
      "metadata": {
        "colab": {
          "base_uri": "https://localhost:8080/",
          "height": 204
        },
        "id": "PA8UntsXPl4z",
        "outputId": "5850376d-d21d-4e84-bc1d-a17c2a2189f9"
      },
      "source": [
        "dataframe_raw = pd.read_csv(DATA_FILENAME)\n",
        "dataframe_raw.head()"
      ],
      "execution_count": 5,
      "outputs": [
        {
          "output_type": "execute_result",
          "data": {
            "text/html": [
              "<div>\n",
              "<style scoped>\n",
              "    .dataframe tbody tr th:only-of-type {\n",
              "        vertical-align: middle;\n",
              "    }\n",
              "\n",
              "    .dataframe tbody tr th {\n",
              "        vertical-align: top;\n",
              "    }\n",
              "\n",
              "    .dataframe thead th {\n",
              "        text-align: right;\n",
              "    }\n",
              "</style>\n",
              "<table border=\"1\" class=\"dataframe\">\n",
              "  <thead>\n",
              "    <tr style=\"text-align: right;\">\n",
              "      <th></th>\n",
              "      <th>age</th>\n",
              "      <th>sex</th>\n",
              "      <th>bmi</th>\n",
              "      <th>children</th>\n",
              "      <th>smoker</th>\n",
              "      <th>region</th>\n",
              "      <th>charges</th>\n",
              "    </tr>\n",
              "  </thead>\n",
              "  <tbody>\n",
              "    <tr>\n",
              "      <th>0</th>\n",
              "      <td>19</td>\n",
              "      <td>female</td>\n",
              "      <td>27.900</td>\n",
              "      <td>0</td>\n",
              "      <td>yes</td>\n",
              "      <td>southwest</td>\n",
              "      <td>16884.92400</td>\n",
              "    </tr>\n",
              "    <tr>\n",
              "      <th>1</th>\n",
              "      <td>18</td>\n",
              "      <td>male</td>\n",
              "      <td>33.770</td>\n",
              "      <td>1</td>\n",
              "      <td>no</td>\n",
              "      <td>southeast</td>\n",
              "      <td>1725.55230</td>\n",
              "    </tr>\n",
              "    <tr>\n",
              "      <th>2</th>\n",
              "      <td>28</td>\n",
              "      <td>male</td>\n",
              "      <td>33.000</td>\n",
              "      <td>3</td>\n",
              "      <td>no</td>\n",
              "      <td>southeast</td>\n",
              "      <td>4449.46200</td>\n",
              "    </tr>\n",
              "    <tr>\n",
              "      <th>3</th>\n",
              "      <td>33</td>\n",
              "      <td>male</td>\n",
              "      <td>22.705</td>\n",
              "      <td>0</td>\n",
              "      <td>no</td>\n",
              "      <td>northwest</td>\n",
              "      <td>21984.47061</td>\n",
              "    </tr>\n",
              "    <tr>\n",
              "      <th>4</th>\n",
              "      <td>32</td>\n",
              "      <td>male</td>\n",
              "      <td>28.880</td>\n",
              "      <td>0</td>\n",
              "      <td>no</td>\n",
              "      <td>northwest</td>\n",
              "      <td>3866.85520</td>\n",
              "    </tr>\n",
              "  </tbody>\n",
              "</table>\n",
              "</div>"
            ],
            "text/plain": [
              "   age     sex     bmi  children smoker     region      charges\n",
              "0   19  female  27.900         0    yes  southwest  16884.92400\n",
              "1   18    male  33.770         1     no  southeast   1725.55230\n",
              "2   28    male  33.000         3     no  southeast   4449.46200\n",
              "3   33    male  22.705         0     no  northwest  21984.47061\n",
              "4   32    male  28.880         0     no  northwest   3866.85520"
            ]
          },
          "metadata": {
            "tags": []
          },
          "execution_count": 5
        }
      ]
    },
    {
      "cell_type": "markdown",
      "metadata": {
        "id": "2JQMMpKWPl40"
      },
      "source": [
        "We're going to do a slight customization of the data, so that you every participant receives a slightly different version of the dataset. Fill in your name below as a string (enter at least 5 characters)"
      ]
    },
    {
      "cell_type": "code",
      "metadata": {
        "id": "luujbDRiPl40"
      },
      "source": [
        "your_name = 'kishan' # at least 5 characters"
      ],
      "execution_count": 7,
      "outputs": []
    },
    {
      "cell_type": "markdown",
      "metadata": {
        "id": "MHcym-giPl40"
      },
      "source": [
        "The `customize_dataset` function will customize the dataset slightly using your name as a source of random numbers."
      ]
    },
    {
      "cell_type": "code",
      "metadata": {
        "id": "ycltT2vZPl40"
      },
      "source": [
        "def customize_dataset(dataframe_raw, rand_str):\n",
        "    dataframe = dataframe_raw.copy(deep=True)\n",
        "    # drop some rows\n",
        "    dataframe = dataframe.sample(int(0.95*len(dataframe)), random_state=int(ord(rand_str[0])))\n",
        "    # scale input\n",
        "    dataframe.bmi = dataframe.bmi * ord(rand_str[1])/100.\n",
        "    # scale target\n",
        "    dataframe.charges = dataframe.charges * ord(rand_str[2])/100.\n",
        "    # drop column\n",
        "    if ord(rand_str[3]) % 2 == 1:\n",
        "        dataframe = dataframe.drop(['region'], axis=1)\n",
        "    return dataframe"
      ],
      "execution_count": 8,
      "outputs": []
    },
    {
      "cell_type": "code",
      "metadata": {
        "colab": {
          "base_uri": "https://localhost:8080/",
          "height": 204
        },
        "id": "Z9lS61_hPl40",
        "outputId": "d2d6eb6e-a7f0-4deb-ec30-2f734b72aa4c"
      },
      "source": [
        "dataframe = customize_dataset(dataframe_raw, your_name)\n",
        "dataframe.head()"
      ],
      "execution_count": 9,
      "outputs": [
        {
          "output_type": "execute_result",
          "data": {
            "text/html": [
              "<div>\n",
              "<style scoped>\n",
              "    .dataframe tbody tr th:only-of-type {\n",
              "        vertical-align: middle;\n",
              "    }\n",
              "\n",
              "    .dataframe tbody tr th {\n",
              "        vertical-align: top;\n",
              "    }\n",
              "\n",
              "    .dataframe thead th {\n",
              "        text-align: right;\n",
              "    }\n",
              "</style>\n",
              "<table border=\"1\" class=\"dataframe\">\n",
              "  <thead>\n",
              "    <tr style=\"text-align: right;\">\n",
              "      <th></th>\n",
              "      <th>age</th>\n",
              "      <th>sex</th>\n",
              "      <th>bmi</th>\n",
              "      <th>children</th>\n",
              "      <th>smoker</th>\n",
              "      <th>region</th>\n",
              "      <th>charges</th>\n",
              "    </tr>\n",
              "  </thead>\n",
              "  <tbody>\n",
              "    <tr>\n",
              "      <th>1232</th>\n",
              "      <td>54</td>\n",
              "      <td>female</td>\n",
              "      <td>25.83525</td>\n",
              "      <td>3</td>\n",
              "      <td>no</td>\n",
              "      <td>northwest</td>\n",
              "      <td>14351.665293</td>\n",
              "    </tr>\n",
              "    <tr>\n",
              "      <th>597</th>\n",
              "      <td>34</td>\n",
              "      <td>female</td>\n",
              "      <td>34.91250</td>\n",
              "      <td>1</td>\n",
              "      <td>no</td>\n",
              "      <td>northeast</td>\n",
              "      <td>6434.072325</td>\n",
              "    </tr>\n",
              "    <tr>\n",
              "      <th>351</th>\n",
              "      <td>50</td>\n",
              "      <td>female</td>\n",
              "      <td>26.88000</td>\n",
              "      <td>0</td>\n",
              "      <td>no</td>\n",
              "      <td>southwest</td>\n",
              "      <td>10271.896600</td>\n",
              "    </tr>\n",
              "    <tr>\n",
              "      <th>530</th>\n",
              "      <td>57</td>\n",
              "      <td>male</td>\n",
              "      <td>44.23650</td>\n",
              "      <td>1</td>\n",
              "      <td>yes</td>\n",
              "      <td>southeast</td>\n",
              "      <td>55976.845355</td>\n",
              "    </tr>\n",
              "    <tr>\n",
              "      <th>960</th>\n",
              "      <td>19</td>\n",
              "      <td>female</td>\n",
              "      <td>41.59575</td>\n",
              "      <td>1</td>\n",
              "      <td>no</td>\n",
              "      <td>northwest</td>\n",
              "      <td>3139.624028</td>\n",
              "    </tr>\n",
              "  </tbody>\n",
              "</table>\n",
              "</div>"
            ],
            "text/plain": [
              "      age     sex       bmi  children smoker     region       charges\n",
              "1232   54  female  25.83525         3     no  northwest  14351.665293\n",
              "597    34  female  34.91250         1     no  northeast   6434.072325\n",
              "351    50  female  26.88000         0     no  southwest  10271.896600\n",
              "530    57    male  44.23650         1    yes  southeast  55976.845355\n",
              "960    19  female  41.59575         1     no  northwest   3139.624028"
            ]
          },
          "metadata": {
            "tags": []
          },
          "execution_count": 9
        }
      ]
    },
    {
      "cell_type": "markdown",
      "metadata": {
        "id": "1Pzz4JAyPl40"
      },
      "source": [
        "Let us answer some basic questions about the dataset. \n",
        "\n",
        "\n",
        "**Q: How many rows does the dataset have?**"
      ]
    },
    {
      "cell_type": "code",
      "metadata": {
        "colab": {
          "base_uri": "https://localhost:8080/"
        },
        "id": "pZXRbDuPPl40",
        "outputId": "21bd18be-3f77-4547-be84-a778704dd630"
      },
      "source": [
        "num_rows = dataframe.shape[0]\n",
        "print(num_rows)"
      ],
      "execution_count": 10,
      "outputs": [
        {
          "output_type": "stream",
          "text": [
            "1271\n"
          ],
          "name": "stdout"
        }
      ]
    },
    {
      "cell_type": "markdown",
      "metadata": {
        "id": "5Eauuc_cPl40"
      },
      "source": [
        "**Q: How many columns doe the dataset have**"
      ]
    },
    {
      "cell_type": "code",
      "metadata": {
        "colab": {
          "base_uri": "https://localhost:8080/"
        },
        "id": "NrRCgGJYPl40",
        "outputId": "4c86917d-3a09-4143-ec03-1aac481ba600"
      },
      "source": [
        "num_cols = dataframe.shape[1]\n",
        "print(num_cols)"
      ],
      "execution_count": 11,
      "outputs": [
        {
          "output_type": "stream",
          "text": [
            "7\n"
          ],
          "name": "stdout"
        }
      ]
    },
    {
      "cell_type": "markdown",
      "metadata": {
        "id": "F0YuKmgePl40"
      },
      "source": [
        "**Q: What are the column titles of the input variables?**"
      ]
    },
    {
      "cell_type": "code",
      "metadata": {
        "id": "-JLbAYj4Pl40"
      },
      "source": [
        "input_cols = ['age','sex','bmi','children','smoker','region']"
      ],
      "execution_count": 12,
      "outputs": []
    },
    {
      "cell_type": "markdown",
      "metadata": {
        "id": "CI60GkNoPl40"
      },
      "source": [
        "**Q: Which of the input columns are non-numeric or categorial variables ?**\n",
        "\n",
        "Hint: `sex` is one of them. List the columns that are not numbers."
      ]
    },
    {
      "cell_type": "code",
      "metadata": {
        "id": "R6wp9EL8Pl40"
      },
      "source": [
        "categorical_cols = ['sex','smoker','region']"
      ],
      "execution_count": 13,
      "outputs": []
    },
    {
      "cell_type": "markdown",
      "metadata": {
        "id": "rBM-ipnDPl40"
      },
      "source": [
        "**Q: What are the column titles of output/target variable(s)?**"
      ]
    },
    {
      "cell_type": "code",
      "metadata": {
        "id": "Rnntb34rPl40"
      },
      "source": [
        "output_cols = ['charges']"
      ],
      "execution_count": 14,
      "outputs": []
    },
    {
      "cell_type": "markdown",
      "metadata": {
        "id": "ecp7lJsVPl40"
      },
      "source": [
        "**Q: (Optional) What is the minimum, maximum and average value of the `charges` column? Can you show the distribution of values in a graph?**\n",
        "Use this data visualization cheatsheet for referece: https://jovian.ml/aakashns/dataviz-cheatsheet"
      ]
    },
    {
      "cell_type": "code",
      "metadata": {
        "colab": {
          "base_uri": "https://localhost:8080/"
        },
        "id": "kfldfu2dPl40",
        "outputId": "f7a15cb0-c6d1-497a-d277-ae80273ba569"
      },
      "source": [
        "# Write your answer here\n",
        "dataframe['charges'].describe()"
      ],
      "execution_count": 15,
      "outputs": [
        {
          "output_type": "execute_result",
          "data": {
            "text/plain": [
              "count     1271.000000\n",
              "mean     15309.838892\n",
              "std      14030.718517\n",
              "min       1290.154985\n",
              "25%       5427.574845\n",
              "50%      10800.047900\n",
              "75%      19115.423717\n",
              "max      73335.992212\n",
              "Name: charges, dtype: float64"
            ]
          },
          "metadata": {
            "tags": []
          },
          "execution_count": 15
        }
      ]
    },
    {
      "cell_type": "markdown",
      "metadata": {
        "id": "AWFBhmPRPl40"
      },
      "source": [
        "Remember to commit your notebook to Jovian after every step, so that you don't lose your work."
      ]
    },
    {
      "cell_type": "code",
      "metadata": {
        "id": "fPqu4QuNPl40"
      },
      "source": [
        "!pip install jovian --upgrade -q"
      ],
      "execution_count": 16,
      "outputs": []
    },
    {
      "cell_type": "code",
      "metadata": {
        "id": "z4ubsauxPl40"
      },
      "source": [
        "import jovian"
      ],
      "execution_count": 17,
      "outputs": []
    },
    {
      "cell_type": "code",
      "metadata": {
        "colab": {
          "base_uri": "https://localhost:8080/",
          "height": 137
        },
        "id": "exdnStokPl40",
        "outputId": "cfcbc488-cb49-48bb-c038-c621b3c75e5c"
      },
      "source": [
        "jovian.commit(project=project_name)"
      ],
      "execution_count": 19,
      "outputs": [
        {
          "output_type": "stream",
          "text": [
            "[jovian] Detected Colab notebook...\u001b[0m\n",
            "[jovian] Please enter your API key ( from https://jovian.ai/ ):\u001b[0m\n",
            "API KEY: ··········\n",
            "[jovian] Uploading colab notebook to Jovian...\u001b[0m\n",
            "[jovian] Capturing environment..\u001b[0m\n",
            "[jovian] Committed successfully! https://jovian.ai/kishanyadav3223/02-insurance-linear-regression\u001b[0m\n"
          ],
          "name": "stdout"
        },
        {
          "output_type": "execute_result",
          "data": {
            "application/vnd.google.colaboratory.intrinsic+json": {
              "type": "string"
            },
            "text/plain": [
              "'https://jovian.ai/kishanyadav3223/02-insurance-linear-regression'"
            ]
          },
          "metadata": {
            "tags": []
          },
          "execution_count": 19
        }
      ]
    },
    {
      "cell_type": "markdown",
      "metadata": {
        "id": "eydqasTTPl41"
      },
      "source": [
        "## Step 2: Prepare the dataset for training\n",
        "\n",
        "We need to convert the data from the Pandas dataframe into a PyTorch tensors for training. To do this, the first step is to convert it numpy arrays. If you've filled out `input_cols`, `categorial_cols` and `output_cols` correctly, this following function will perform the conversion to numpy arrays."
      ]
    },
    {
      "cell_type": "code",
      "metadata": {
        "id": "zIW7SP5NPl41"
      },
      "source": [
        "def dataframe_to_arrays(dataframe):\n",
        "    # Make a copy of the original dataframe\n",
        "    dataframe1 = dataframe.copy(deep=True)\n",
        "    # Convert non-numeric categorical columns to numbers\n",
        "    for col in categorical_cols:\n",
        "        dataframe1[col] = dataframe1[col].astype('category').cat.codes\n",
        "    # Extract input & outupts as numpy arrays\n",
        "    inputs_array = dataframe1[input_cols].to_numpy()\n",
        "    targets_array = dataframe1[output_cols].to_numpy()\n",
        "    return inputs_array, targets_array"
      ],
      "execution_count": 20,
      "outputs": []
    },
    {
      "cell_type": "markdown",
      "metadata": {
        "id": "9wdVwDF5Pl41"
      },
      "source": [
        "Read through the [Pandas documentation](https://pandas.pydata.org/pandas-docs/stable/user_guide/categorical.html) to understand how we're converting categorical variables into numbers."
      ]
    },
    {
      "cell_type": "code",
      "metadata": {
        "colab": {
          "base_uri": "https://localhost:8080/"
        },
        "id": "UgZSZrevPl41",
        "outputId": "36166c26-1fb9-4627-d8c8-34044320b285"
      },
      "source": [
        "inputs_array, targets_array = dataframe_to_arrays(dataframe)\n",
        "inputs_array, targets_array"
      ],
      "execution_count": 21,
      "outputs": [
        {
          "output_type": "execute_result",
          "data": {
            "text/plain": [
              "(array([[54.     ,  0.     , 25.83525,  3.     ,  0.     ,  1.     ],\n",
              "        [34.     ,  0.     , 34.9125 ,  1.     ,  0.     ,  0.     ],\n",
              "        [50.     ,  0.     , 26.88   ,  0.     ,  0.     ,  3.     ],\n",
              "        ...,\n",
              "        [39.     ,  0.     , 33.516  ,  2.     ,  0.     ,  1.     ],\n",
              "        [57.     ,  1.     , 42.294  ,  0.     ,  0.     ,  0.     ],\n",
              "        [53.     ,  1.     , 32.718  ,  1.     ,  0.     ,  1.     ]]),\n",
              " array([[14351.6652925],\n",
              "        [ 6434.072325 ],\n",
              "        [10271.8966   ],\n",
              "        ...,\n",
              "        [ 8290.91557  ],\n",
              "        [23815.373391 ],\n",
              "        [12031.27631  ]]))"
            ]
          },
          "metadata": {
            "tags": []
          },
          "execution_count": 21
        }
      ]
    },
    {
      "cell_type": "markdown",
      "metadata": {
        "id": "nJnX4dIPPl41"
      },
      "source": [
        "**Q: Convert the numpy arrays `inputs_array` and `targets_array` into PyTorch tensors. Make sure that the data type is `torch.float32`.**"
      ]
    },
    {
      "cell_type": "code",
      "metadata": {
        "id": "kcqzc923Pl41"
      },
      "source": [
        "inputs = torch.tensor(inputs_array, dtype=torch.float32)\n",
        "targets = torch.tensor(targets_array, dtype=torch.float32)"
      ],
      "execution_count": 23,
      "outputs": []
    },
    {
      "cell_type": "code",
      "metadata": {
        "colab": {
          "base_uri": "https://localhost:8080/"
        },
        "id": "yfePQsosPl41",
        "outputId": "8917ba55-5da0-4848-9bb4-f150d5b0f57b"
      },
      "source": [
        "inputs.dtype, targets.dtype"
      ],
      "execution_count": 24,
      "outputs": [
        {
          "output_type": "execute_result",
          "data": {
            "text/plain": [
              "(torch.float32, torch.float32)"
            ]
          },
          "metadata": {
            "tags": []
          },
          "execution_count": 24
        }
      ]
    },
    {
      "cell_type": "markdown",
      "metadata": {
        "id": "l4KrJYxyPl41"
      },
      "source": [
        "Next, we need to create PyTorch datasets & data loaders for training & validation. We'll start by creating a `TensorDataset`."
      ]
    },
    {
      "cell_type": "code",
      "metadata": {
        "id": "iIM7OvaSPl41"
      },
      "source": [
        "dataset = TensorDataset(inputs, targets)"
      ],
      "execution_count": 25,
      "outputs": []
    },
    {
      "cell_type": "markdown",
      "metadata": {
        "id": "p0CSl48VPl41"
      },
      "source": [
        "**Q: Pick a number between `0.1` and `0.2` to determine the fraction of data that will be used for creating the validation set. Then use `random_split` to create training & validation datasets.**"
      ]
    },
    {
      "cell_type": "code",
      "metadata": {
        "id": "wlBeIGnYPl41"
      },
      "source": [
        "val_percent = 0.1 # between 0.1 and 0.2\n",
        "val_size = int(num_rows * val_percent)\n",
        "train_size = num_rows - val_size\n",
        "\n",
        "\n",
        "train_ds, val_ds = random_split(dataset, [train_size, val_size]) # Use the random_split function to split dataset into 2 parts of the desired length"
      ],
      "execution_count": 71,
      "outputs": []
    },
    {
      "cell_type": "markdown",
      "metadata": {
        "id": "DnVk7y-jPl41"
      },
      "source": [
        "Finally, we can create data loaders for training & validation.\n",
        "\n",
        "**Q: Pick a batch size for the data loader.**"
      ]
    },
    {
      "cell_type": "code",
      "metadata": {
        "id": "XcSBHH15Pl41"
      },
      "source": [
        "batch_size = 128"
      ],
      "execution_count": 72,
      "outputs": []
    },
    {
      "cell_type": "code",
      "metadata": {
        "id": "3pLeJz7ZPl41"
      },
      "source": [
        "train_loader = DataLoader(train_ds, batch_size, shuffle=True)\n",
        "val_loader = DataLoader(val_ds, batch_size)"
      ],
      "execution_count": 73,
      "outputs": []
    },
    {
      "cell_type": "markdown",
      "metadata": {
        "id": "641o5-A4Pl41"
      },
      "source": [
        "Let's look at a batch of data to verify everything is working fine so far."
      ]
    },
    {
      "cell_type": "code",
      "metadata": {
        "colab": {
          "base_uri": "https://localhost:8080/"
        },
        "id": "9j8VS40IPl41",
        "outputId": "917f7f0d-e313-4243-9091-a215d58872ba"
      },
      "source": [
        "for xb, yb in train_loader:\n",
        "    print(\"inputs:\", xb)\n",
        "    print(\"targets:\", yb)\n",
        "    break"
      ],
      "execution_count": 74,
      "outputs": [
        {
          "output_type": "stream",
          "text": [
            "inputs: tensor([[58.0000,  0.0000, 34.7550,  0.0000,  0.0000,  3.0000],\n",
            "        [18.0000,  0.0000, 29.6257,  0.0000,  0.0000,  0.0000],\n",
            "        [18.0000,  0.0000, 32.6865,  0.0000,  0.0000,  2.0000],\n",
            "        [63.0000,  1.0000, 29.7255,  0.0000,  0.0000,  1.0000],\n",
            "        [38.0000,  1.0000, 17.6558,  2.0000,  0.0000,  0.0000],\n",
            "        [48.0000,  0.0000, 29.3265,  4.0000,  0.0000,  1.0000],\n",
            "        [29.0000,  1.0000, 37.2750,  2.0000,  1.0000,  3.0000],\n",
            "        [45.0000,  1.0000, 28.8750,  3.0000,  0.0000,  3.0000],\n",
            "        [24.0000,  1.0000, 33.6105,  0.0000,  0.0000,  2.0000],\n",
            "        [57.0000,  1.0000, 45.8850,  1.0000,  0.0000,  3.0000],\n",
            "        [35.0000,  0.0000, 37.6058,  1.0000,  0.0000,  1.0000],\n",
            "        [54.0000,  0.0000, 33.4950,  1.0000,  0.0000,  2.0000],\n",
            "        [29.0000,  0.0000, 27.3315,  0.0000,  0.0000,  1.0000],\n",
            "        [51.0000,  1.0000, 26.0347,  2.0000,  1.0000,  1.0000],\n",
            "        [52.0000,  1.0000, 35.8050,  0.0000,  0.0000,  2.0000],\n",
            "        [18.0000,  0.0000, 37.4062,  0.0000,  0.0000,  0.0000],\n",
            "        [25.0000,  1.0000, 28.0298,  4.0000,  0.0000,  1.0000],\n",
            "        [38.0000,  0.0000, 36.5400,  2.0000,  0.0000,  3.0000],\n",
            "        [60.0000,  0.0000, 37.8052,  0.0000,  0.0000,  0.0000],\n",
            "        [46.0000,  1.0000, 28.9800,  0.0000,  0.0000,  3.0000],\n",
            "        [35.0000,  1.0000, 30.3450,  3.0000,  0.0000,  3.0000],\n",
            "        [36.0000,  0.0000, 20.8477,  0.0000,  0.0000,  0.0000],\n",
            "        [19.0000,  0.0000, 30.0300,  5.0000,  0.0000,  3.0000],\n",
            "        [47.0000,  1.0000, 31.2900,  3.0000,  1.0000,  3.0000],\n",
            "        [40.0000,  1.0000, 33.9150,  2.0000,  0.0000,  1.0000],\n",
            "        [30.0000,  0.0000, 23.0422,  1.0000,  0.0000,  0.0000],\n",
            "        [64.0000,  1.0000, 42.5040,  0.0000,  0.0000,  2.0000],\n",
            "        [61.0000,  0.0000, 22.1445,  0.0000,  0.0000,  1.0000],\n",
            "        [47.0000,  0.0000, 30.8385,  1.0000,  0.0000,  2.0000],\n",
            "        [50.0000,  1.0000, 27.7305,  0.0000,  0.0000,  1.0000],\n",
            "        [36.0000,  0.0000, 23.7300,  2.0000,  1.0000,  3.0000],\n",
            "        [18.0000,  0.0000, 42.2730,  0.0000,  0.0000,  2.0000],\n",
            "        [60.0000,  1.0000, 30.3450,  0.0000,  0.0000,  3.0000],\n",
            "        [40.0000,  1.0000, 34.4137,  1.0000,  1.0000,  0.0000],\n",
            "        [48.0000,  0.0000, 28.6283,  1.0000,  0.0000,  0.0000],\n",
            "        [62.0000,  0.0000, 38.7030,  1.0000,  0.0000,  0.0000],\n",
            "        [31.0000,  0.0000, 30.7230,  1.0000,  0.0000,  2.0000],\n",
            "        [22.0000,  0.0000, 36.3090,  2.0000,  0.0000,  0.0000],\n",
            "        [52.0000,  1.0000, 31.7100,  1.0000,  0.0000,  3.0000],\n",
            "        [31.0000,  0.0000, 38.4615,  2.0000,  0.0000,  2.0000],\n",
            "        [64.0000,  1.0000, 38.8080,  2.0000,  1.0000,  2.0000],\n",
            "        [18.0000,  0.0000, 40.0785,  0.0000,  0.0000,  2.0000],\n",
            "        [19.0000,  0.0000, 21.6300,  0.0000,  0.0000,  3.0000],\n",
            "        [27.0000,  0.0000, 21.0473,  3.0000,  1.0000,  1.0000],\n",
            "        [35.0000,  0.0000, 24.6383,  2.0000,  0.0000,  0.0000],\n",
            "        [24.0000,  0.0000, 27.9300,  0.0000,  0.0000,  0.0000],\n",
            "        [62.0000,  0.0000, 41.1180,  0.0000,  0.0000,  2.0000],\n",
            "        [22.0000,  1.0000, 32.9175,  1.0000,  0.0000,  1.0000],\n",
            "        [45.0000,  0.0000, 33.3795,  0.0000,  0.0000,  2.0000],\n",
            "        [42.0000,  0.0000, 30.9540,  2.0000,  0.0000,  2.0000],\n",
            "        [23.0000,  1.0000, 34.3350,  3.0000,  0.0000,  3.0000],\n",
            "        [48.0000,  1.0000, 29.4000,  1.0000,  1.0000,  3.0000],\n",
            "        [34.0000,  0.0000, 19.9500,  3.0000,  0.0000,  0.0000],\n",
            "        [55.0000,  1.0000, 30.4237,  0.0000,  0.0000,  0.0000],\n",
            "        [57.0000,  1.0000, 42.3885,  0.0000,  0.0000,  2.0000],\n",
            "        [60.0000,  0.0000, 39.9630,  0.0000,  0.0000,  2.0000],\n",
            "        [18.0000,  1.0000, 35.8050,  0.0000,  0.0000,  2.0000],\n",
            "        [54.0000,  0.0000, 30.3240,  2.0000,  0.0000,  0.0000],\n",
            "        [63.0000,  1.0000, 43.5435,  0.0000,  0.0000,  2.0000],\n",
            "        [18.0000,  0.0000, 44.3520,  0.0000,  1.0000,  2.0000],\n",
            "        [60.0000,  0.0000, 36.8550,  0.0000,  0.0000,  3.0000],\n",
            "        [41.0000,  0.0000, 32.5710,  0.0000,  0.0000,  2.0000],\n",
            "        [41.0000,  0.0000, 34.2300,  3.0000,  0.0000,  3.0000],\n",
            "        [43.0000,  0.0000, 32.2192,  2.0000,  0.0000,  1.0000],\n",
            "        [50.0000,  1.0000, 33.7155,  2.0000,  0.0000,  0.0000],\n",
            "        [50.0000,  1.0000, 38.9235,  1.0000,  0.0000,  2.0000],\n",
            "        [54.0000,  0.0000, 34.3140,  0.0000,  0.0000,  0.0000],\n",
            "        [60.0000,  0.0000, 32.0250,  0.0000,  0.0000,  3.0000],\n",
            "        [38.0000,  1.0000, 40.3095,  3.0000,  1.0000,  2.0000],\n",
            "        [58.0000,  0.0000, 41.0025,  0.0000,  0.0000,  2.0000],\n",
            "        [56.0000,  1.0000, 35.4113,  0.0000,  0.0000,  1.0000],\n",
            "        [53.0000,  0.0000, 24.0240,  1.0000,  1.0000,  2.0000],\n",
            "        [19.0000,  1.0000, 26.8328,  1.0000,  0.0000,  1.0000],\n",
            "        [60.0000,  0.0000, 28.9275,  0.0000,  0.0000,  0.0000],\n",
            "        [35.0000,  0.0000, 36.5400,  1.0000,  0.0000,  3.0000],\n",
            "        [56.0000,  1.0000, 36.1515,  0.0000,  0.0000,  2.0000],\n",
            "        [52.0000,  1.0000, 33.8153,  3.0000,  0.0000,  0.0000],\n",
            "        [56.0000,  0.0000, 27.9300,  1.0000,  0.0000,  1.0000],\n",
            "        [40.0000,  0.0000, 26.7330,  1.0000,  0.0000,  0.0000],\n",
            "        [31.0000,  0.0000, 27.9510,  0.0000,  0.0000,  2.0000],\n",
            "        [51.0000,  0.0000, 21.6300,  0.0000,  0.0000,  3.0000],\n",
            "        [36.0000,  0.0000, 31.4160,  0.0000,  0.0000,  2.0000],\n",
            "        [42.0000,  0.0000, 27.9300,  0.0000,  1.0000,  1.0000],\n",
            "        [26.0000,  1.0000, 32.4188,  2.0000,  0.0000,  1.0000],\n",
            "        [40.0000,  0.0000, 34.6500,  3.0000,  0.0000,  2.0000],\n",
            "        [22.0000,  0.0000, 31.9200,  0.0000,  0.0000,  0.0000],\n",
            "        [35.0000,  1.0000, 36.5085,  2.0000,  0.0000,  1.0000],\n",
            "        [38.0000,  1.0000, 20.2650,  0.0000,  1.0000,  3.0000],\n",
            "        [18.0000,  0.0000, 26.3340,  0.0000,  0.0000,  0.0000],\n",
            "        [49.0000,  0.0000, 33.4950,  5.0000,  0.0000,  3.0000],\n",
            "        [31.0000,  0.0000, 22.8428,  0.0000,  0.0000,  1.0000],\n",
            "        [39.0000,  1.0000, 44.7878,  0.0000,  0.0000,  0.0000],\n",
            "        [45.0000,  0.0000, 29.2215,  2.0000,  0.0000,  2.0000],\n",
            "        [40.0000,  1.0000, 43.2915,  1.0000,  0.0000,  0.0000],\n",
            "        [30.0000,  1.0000, 37.3065,  0.0000,  1.0000,  2.0000],\n",
            "        [33.0000,  1.0000, 37.5375,  2.0000,  0.0000,  2.0000],\n",
            "        [43.0000,  1.0000, 36.7080,  1.0000,  1.0000,  0.0000],\n",
            "        [34.0000,  0.0000, 39.9000,  3.0000,  0.0000,  3.0000],\n",
            "        [56.0000,  0.0000, 29.7255,  0.0000,  0.0000,  0.0000],\n",
            "        [55.0000,  0.0000, 28.1400,  1.0000,  0.0000,  3.0000],\n",
            "        [23.0000,  0.0000, 25.4363,  2.0000,  0.0000,  0.0000],\n",
            "        [42.0000,  1.0000, 32.8177,  0.0000,  0.0000,  1.0000],\n",
            "        [22.0000,  1.0000, 33.7155,  0.0000,  0.0000,  1.0000],\n",
            "        [64.0000,  1.0000, 41.1180,  1.0000,  0.0000,  2.0000],\n",
            "        [30.0000,  1.0000, 25.6200,  3.0000,  1.0000,  3.0000],\n",
            "        [19.0000,  0.0000, 31.2900,  0.0000,  0.0000,  3.0000],\n",
            "        [62.0000,  0.0000, 33.3165,  0.0000,  0.0000,  0.0000],\n",
            "        [33.0000,  0.0000, 45.0870,  3.0000,  0.0000,  1.0000],\n",
            "        [26.0000,  0.0000, 23.7405,  0.0000,  0.0000,  1.0000],\n",
            "        [19.0000,  1.0000, 20.7900,  0.0000,  0.0000,  3.0000],\n",
            "        [19.0000,  1.0000, 29.0850,  0.0000,  1.0000,  3.0000],\n",
            "        [51.0000,  1.0000, 33.2168,  0.0000,  0.0000,  1.0000],\n",
            "        [45.0000,  0.0000, 38.1150,  2.0000,  0.0000,  2.0000],\n",
            "        [36.0000,  0.0000, 29.1270,  0.0000,  0.0000,  0.0000],\n",
            "        [55.0000,  1.0000, 40.1940,  0.0000,  0.0000,  2.0000],\n",
            "        [38.0000,  0.0000, 29.2267,  2.0000,  0.0000,  0.0000],\n",
            "        [27.0000,  0.0000, 32.1195,  1.0000,  0.0000,  0.0000],\n",
            "        [37.0000,  0.0000, 32.3400,  2.0000,  0.0000,  2.0000],\n",
            "        [34.0000,  1.0000, 34.4400,  1.0000,  0.0000,  3.0000],\n",
            "        [40.0000,  1.0000, 23.8403,  2.0000,  0.0000,  0.0000],\n",
            "        [40.0000,  0.0000, 29.5260,  1.0000,  1.0000,  0.0000],\n",
            "        [58.0000,  0.0000, 35.1120,  0.0000,  0.0000,  1.0000],\n",
            "        [38.0000,  0.0000, 42.5933,  1.0000,  0.0000,  1.0000],\n",
            "        [64.0000,  0.0000, 33.4162,  2.0000,  0.0000,  0.0000],\n",
            "        [51.0000,  1.0000, 23.5410,  0.0000,  0.0000,  0.0000],\n",
            "        [24.0000,  0.0000, 31.6050,  3.0000,  0.0000,  3.0000],\n",
            "        [18.0000,  1.0000, 31.6470,  0.0000,  0.0000,  2.0000],\n",
            "        [32.0000,  1.0000, 39.2018,  1.0000,  0.0000,  0.0000]])\n",
            "targets: tensor([[13625.3623],\n",
            "        [ 2530.9556],\n",
            "        [ 1865.1652],\n",
            "        [15835.6123],\n",
            "        [ 7636.6265],\n",
            "        [12667.4512],\n",
            "        [51273.2734],\n",
            "        [ 9907.5947],\n",
            "        [ 2278.8191],\n",
            "        [13312.5498],\n",
            "        [ 6475.0264],\n",
            "        [12568.1768],\n",
            "        [ 4296.9346],\n",
            "        [27562.4902],\n",
            "        [10512.0938],\n",
            "        [ 2542.8003],\n",
            "        [ 5609.6782],\n",
            "        [ 7557.2754],\n",
            "        [15213.1738],\n",
            "        [28293.5059],\n",
            "        [ 6815.8730],\n",
            "        [ 6276.7534],\n",
            "        [ 5390.9663],\n",
            "        [29105.9121],\n",
            "        [ 8034.7017],\n",
            "        [ 5425.9341],\n",
            "        [15905.7822],\n",
            "        [15427.2939],\n",
            "        [ 9829.8447],\n",
            "        [10151.2910],\n",
            "        [21399.5020],\n",
            "        [ 1879.7594],\n",
            "        [13969.0166],\n",
            "        [44994.1328],\n",
            "        [10864.3379],\n",
            "        [36363.0000],\n",
            "        [ 5003.0918],\n",
            "        [ 4514.6221],\n",
            "        [11183.2100],\n",
            "        [ 5692.2227],\n",
            "        [57014.3125],\n",
            "        [ 1876.4186],\n",
            "        [ 1991.4286],\n",
            "        [18883.5684],\n",
            "        [ 7362.6353],\n",
            "        [ 3502.9712],\n",
            "        [15491.4248],\n",
            "        [ 3039.7588],\n",
            "        [20618.6992],\n",
            "        [ 8786.3555],\n",
            "        [ 4130.2021],\n",
            "        [27103.5137],\n",
            "        [ 7765.9937],\n",
            "        [12415.8027],\n",
            "        [12629.8770],\n",
            "        [14546.0088],\n",
            "        [ 1307.5626],\n",
            "        [13911.1484],\n",
            "        [15416.1992],\n",
            "        [44611.5898],\n",
            "        [14541.2773],\n",
            "        [ 7113.1191],\n",
            "        [ 9147.6943],\n",
            "        [ 9557.4648],\n",
            "        [29133.3320],\n",
            "        [10405.2314],\n",
            "        [12562.5234],\n",
            "        [14533.9238],\n",
            "        [48241.6289],\n",
            "        [13634.8730],\n",
            "        [12622.6826],\n",
            "        [26731.5078],\n",
            "        [ 2554.7991],\n",
            "        [15199.6582],\n",
            "        [ 6032.9541],\n",
            "        [12183.3594],\n",
            "        [13211.5645],\n",
            "        [13850.9932],\n",
            "        [ 8138.7676],\n",
            "        [ 4321.5215],\n",
            "        [10654.5166],\n",
            "        [ 5622.3921],\n",
            "        [24551.0117],\n",
            "        [ 4458.8999],\n",
            "        [ 8835.0703],\n",
            "        [ 3153.2402],\n",
            "        [ 6588.3560],\n",
            "        [18193.8047],\n",
            "        [ 2525.9441],\n",
            "        [13285.8398],\n",
            "        [ 4754.1948],\n",
            "        [ 6621.0254],\n",
            "        [ 9793.1221],\n",
            "        [ 7601.6260],\n",
            "        [42492.7969],\n",
            "        [ 5623.4995],\n",
            "        [47189.3555],\n",
            "        [ 7125.9150],\n",
            "        [13406.3770],\n",
            "        [40434.1562],\n",
            "        [25755.1055],\n",
            "        [ 7312.5928],\n",
            "        [ 2363.6235],\n",
            "        [16581.0215],\n",
            "        [20998.0977],\n",
            "        [ 2006.1348],\n",
            "        [16149.9980],\n",
            "        [ 7315.1426],\n",
            "        [ 3653.3384],\n",
            "        [ 1427.7998],\n",
            "        [18742.5234],\n",
            "        [10550.2559],\n",
            "        [ 9806.6621],\n",
            "        [ 6289.3574],\n",
            "        [11760.2266],\n",
            "        [ 8216.5918],\n",
            "        [19315.8730],\n",
            "        [ 7260.8228],\n",
            "        [16512.1191],\n",
            "        [ 8249.3643],\n",
            "        [25681.3027],\n",
            "        [14066.3555],\n",
            "        [ 7329.5908],\n",
            "        [18479.4473],\n",
            "        [10765.5254],\n",
            "        [ 4870.1660],\n",
            "        [ 1301.2325],\n",
            "        [ 5367.7490]])\n"
          ],
          "name": "stdout"
        }
      ]
    },
    {
      "cell_type": "markdown",
      "metadata": {
        "id": "x_u396qJPl41"
      },
      "source": [
        "Let's save our work by committing to Jovian."
      ]
    },
    {
      "cell_type": "code",
      "metadata": {
        "colab": {
          "base_uri": "https://localhost:8080/",
          "height": 86
        },
        "id": "2RmrPs9XPl41",
        "outputId": "41144862-587c-4c07-839a-59fd5ece1017"
      },
      "source": [
        "jovian.commit(project=project_name, environment=None)"
      ],
      "execution_count": 75,
      "outputs": [
        {
          "output_type": "stream",
          "text": [
            "[jovian] Detected Colab notebook...\u001b[0m\n",
            "[jovian] Uploading colab notebook to Jovian...\u001b[0m\n",
            "[jovian] Committed successfully! https://jovian.ai/kishanyadav3223/02-insurance-linear-regression\u001b[0m\n"
          ],
          "name": "stdout"
        },
        {
          "output_type": "execute_result",
          "data": {
            "application/vnd.google.colaboratory.intrinsic+json": {
              "type": "string"
            },
            "text/plain": [
              "'https://jovian.ai/kishanyadav3223/02-insurance-linear-regression'"
            ]
          },
          "metadata": {
            "tags": []
          },
          "execution_count": 75
        }
      ]
    },
    {
      "cell_type": "markdown",
      "metadata": {
        "id": "CcZejGOLPl41"
      },
      "source": [
        "## Step 3: Create a Linear Regression Model\n",
        "\n",
        "Our model itself is a fairly straightforward linear regression (we'll build more complex models in the next assignment). \n"
      ]
    },
    {
      "cell_type": "code",
      "metadata": {
        "id": "CvPAHXnZPl41"
      },
      "source": [
        "input_size = len(input_cols)\n",
        "output_size = len(output_cols)"
      ],
      "execution_count": 76,
      "outputs": []
    },
    {
      "cell_type": "markdown",
      "metadata": {
        "id": "_8IkxKwgPl41"
      },
      "source": [
        "**Q: Complete the class definition below by filling out the constructor (`__init__`), `forward`, `training_step` and `validation_step` methods.**\n",
        "\n",
        "Hint: Think carefully about picking a good loss fuction (it's not cross entropy). Maybe try 2-3 of them and see which one works best. See https://pytorch.org/docs/stable/nn.functional.html#loss-functions"
      ]
    },
    {
      "cell_type": "code",
      "metadata": {
        "id": "6Qou1LprPl41"
      },
      "source": [
        "class InsuranceModel(nn.Module):\n",
        "    def __init__(self):\n",
        "        super().__init__()\n",
        "        self.linear = nn.Linear(input_size, output_size)                # fill this (hint: use input_size & output_size defined above)\n",
        "        \n",
        "    def forward(self, xb):\n",
        "        out = self.linear(xb)                        # fill this\n",
        "        return out\n",
        "    \n",
        "    def training_step(self, batch):\n",
        "        inputs, targets = batch \n",
        "        # Generate predictions\n",
        "        out = self(inputs)          \n",
        "        # Calcuate loss\n",
        "        loss = F.l1_loss(out, targets)                      # fill this\n",
        "        return loss\n",
        "    \n",
        "    def validation_step(self, batch):\n",
        "        inputs, targets = batch\n",
        "        # Generate predictions\n",
        "        out = self(inputs)\n",
        "        # Calculate loss\n",
        "        loss =F.l1_loss(out, targets)                          # fill this    \n",
        "        return {'val_loss': loss.detach()}\n",
        "        \n",
        "    def validation_epoch_end(self, outputs):\n",
        "        batch_losses = [x['val_loss'] for x in outputs]\n",
        "        epoch_loss = torch.stack(batch_losses).mean()   # Combine losses\n",
        "        return {'val_loss': epoch_loss.item()}\n",
        "    \n",
        "    def epoch_end(self, epoch, result, num_epochs):\n",
        "        # Print result every 20th epoch\n",
        "        if (epoch+1) % 20 == 0 or epoch == num_epochs-1:\n",
        "            print(\"Epoch [{}], val_loss: {:.4f}\".format(epoch+1, result['val_loss']))"
      ],
      "execution_count": 77,
      "outputs": []
    },
    {
      "cell_type": "markdown",
      "metadata": {
        "id": "oq9sZuL4Pl41"
      },
      "source": [
        "Let us create a model using the `InsuranceModel` class. You may need to come back later and re-run the next cell to reinitialize the model, in case the loss becomes `nan` or `infinity`."
      ]
    },
    {
      "cell_type": "code",
      "metadata": {
        "id": "HOhG1Fz8Pl41"
      },
      "source": [
        "model = InsuranceModel()"
      ],
      "execution_count": 78,
      "outputs": []
    },
    {
      "cell_type": "markdown",
      "metadata": {
        "id": "7wuLmy1MPl41"
      },
      "source": [
        "Let's check out the weights and biases of the model using `model.parameters`."
      ]
    },
    {
      "cell_type": "code",
      "metadata": {
        "colab": {
          "base_uri": "https://localhost:8080/"
        },
        "id": "rqMPCN-DPl41",
        "outputId": "fc3b5d08-4b70-4825-e771-99b05d5c0031"
      },
      "source": [
        "list(model.parameters())"
      ],
      "execution_count": 79,
      "outputs": [
        {
          "output_type": "execute_result",
          "data": {
            "text/plain": [
              "[Parameter containing:\n",
              " tensor([[-0.3725,  0.1020,  0.1186, -0.1906,  0.0323, -0.0912]],\n",
              "        requires_grad=True), Parameter containing:\n",
              " tensor([0.0130], requires_grad=True)]"
            ]
          },
          "metadata": {
            "tags": []
          },
          "execution_count": 79
        }
      ]
    },
    {
      "cell_type": "markdown",
      "metadata": {
        "id": "9DzyC5wLPl41"
      },
      "source": [
        "One final commit before we train the model."
      ]
    },
    {
      "cell_type": "code",
      "metadata": {
        "colab": {
          "base_uri": "https://localhost:8080/",
          "height": 86
        },
        "id": "CIUoni3_Pl41",
        "outputId": "bb58a1b3-9e7d-407e-c50d-89eb8f5d9b84"
      },
      "source": [
        "jovian.commit(project=project_name, environment=None)"
      ],
      "execution_count": 55,
      "outputs": [
        {
          "output_type": "stream",
          "text": [
            "[jovian] Detected Colab notebook...\u001b[0m\n",
            "[jovian] Uploading colab notebook to Jovian...\u001b[0m\n",
            "[jovian] Committed successfully! https://jovian.ai/kishanyadav3223/02-insurance-linear-regression\u001b[0m\n"
          ],
          "name": "stdout"
        },
        {
          "output_type": "execute_result",
          "data": {
            "application/vnd.google.colaboratory.intrinsic+json": {
              "type": "string"
            },
            "text/plain": [
              "'https://jovian.ai/kishanyadav3223/02-insurance-linear-regression'"
            ]
          },
          "metadata": {
            "tags": []
          },
          "execution_count": 55
        }
      ]
    },
    {
      "cell_type": "markdown",
      "metadata": {
        "id": "aRGq_JJFPl41"
      },
      "source": [
        "## Step 4: Train the model to fit the data\n",
        "\n",
        "To train our model, we'll use the same `fit` function explained in the lecture. That's the benefit of defining a generic training loop - you can use it for any problem."
      ]
    },
    {
      "cell_type": "code",
      "metadata": {
        "id": "BO1OxgxRPl41"
      },
      "source": [
        "def evaluate(model, val_loader):\n",
        "    outputs = [model.validation_step(batch) for batch in val_loader]\n",
        "    return model.validation_epoch_end(outputs)\n",
        "\n",
        "def fit(epochs, lr, model, train_loader, val_loader, opt_func=torch.optim.SGD):\n",
        "    history = []\n",
        "    optimizer = opt_func(model.parameters(), lr)\n",
        "    for epoch in range(epochs):\n",
        "        # Training Phase \n",
        "        for batch in train_loader:\n",
        "            loss = model.training_step(batch)\n",
        "            loss.backward()\n",
        "            optimizer.step()\n",
        "            optimizer.zero_grad()\n",
        "        # Validation phase\n",
        "        result = evaluate(model, val_loader)\n",
        "        model.epoch_end(epoch, result, epochs)\n",
        "        history.append(result)\n",
        "    return history"
      ],
      "execution_count": 80,
      "outputs": []
    },
    {
      "cell_type": "markdown",
      "metadata": {
        "id": "EV0mHjI4Pl41"
      },
      "source": [
        "**Q: Use the `evaluate` function to calculate the loss on the validation set before training.**"
      ]
    },
    {
      "cell_type": "code",
      "metadata": {
        "colab": {
          "base_uri": "https://localhost:8080/"
        },
        "id": "V4gl3eecPl41",
        "outputId": "924cd947-2a39-40a7-9b10-c57fb847f46d"
      },
      "source": [
        "result = evaluate(model, val_loader) # Use the the evaluate function\n",
        "print(result)"
      ],
      "execution_count": 81,
      "outputs": [
        {
          "output_type": "stream",
          "text": [
            "{'val_loss': 15888.6376953125}\n"
          ],
          "name": "stdout"
        }
      ]
    },
    {
      "cell_type": "markdown",
      "metadata": {
        "id": "LriuNeRaPl42"
      },
      "source": [
        "\n",
        "We are now ready to train the model. You may need to run the training loop many times, for different number of epochs and with different learning rates, to get a good result. Also, if your loss becomes too large (or `nan`), you may have to re-initialize the model by running the cell `model = InsuranceModel()`. Experiment with this for a while, and try to get to as low a loss as possible."
      ]
    },
    {
      "cell_type": "markdown",
      "metadata": {
        "id": "ifpM--GNPl42"
      },
      "source": [
        "**Q: Train the model 4-5 times with different learning rates & for different number of epochs.**\n",
        "\n",
        "Hint: Vary learning rates by orders of 10 (e.g. `1e-2`, `1e-3`, `1e-4`, `1e-5`, `1e-6`) to figure out what works."
      ]
    },
    {
      "cell_type": "code",
      "metadata": {
        "colab": {
          "base_uri": "https://localhost:8080/"
        },
        "id": "dgbAW7iRPl42",
        "outputId": "7d25a557-3b52-4090-93e8-20e7cdd0aa69"
      },
      "source": [
        "epochs = 50\n",
        "lr = 1e-2\n",
        "history1 = fit(epochs, lr, model, train_loader, val_loader)"
      ],
      "execution_count": 85,
      "outputs": [
        {
          "output_type": "stream",
          "text": [
            "Epoch [20], val_loss: 9311.9053\n",
            "Epoch [40], val_loss: 9289.3086\n",
            "Epoch [50], val_loss: 9277.9941\n"
          ],
          "name": "stdout"
        }
      ]
    },
    {
      "cell_type": "code",
      "metadata": {
        "colab": {
          "base_uri": "https://localhost:8080/"
        },
        "id": "nERNB_E7Pl42",
        "outputId": "607b2834-27ae-4216-d680-7b9c15b39133"
      },
      "source": [
        "epochs = 50\n",
        "lr = 1e-4\n",
        "history2 = fit(epochs, lr, model, train_loader, val_loader)"
      ],
      "execution_count": 86,
      "outputs": [
        {
          "output_type": "stream",
          "text": [
            "Epoch [20], val_loss: 9277.7734\n",
            "Epoch [40], val_loss: 9277.5518\n",
            "Epoch [50], val_loss: 9277.4414\n"
          ],
          "name": "stdout"
        }
      ]
    },
    {
      "cell_type": "code",
      "metadata": {
        "colab": {
          "base_uri": "https://localhost:8080/"
        },
        "id": "SfZ0OS__Pl42",
        "outputId": "aad1fa36-f3bf-4d58-da94-9b1cc2ba82df"
      },
      "source": [
        "epochs = 50\n",
        "lr = 1e-5\n",
        "history3 = fit(epochs, lr, model, train_loader, val_loader)"
      ],
      "execution_count": 88,
      "outputs": [
        {
          "output_type": "stream",
          "text": [
            "Epoch [20], val_loss: 9277.4131\n",
            "Epoch [40], val_loss: 9277.3916\n",
            "Epoch [50], val_loss: 9277.3799\n"
          ],
          "name": "stdout"
        }
      ]
    },
    {
      "cell_type": "code",
      "metadata": {
        "colab": {
          "base_uri": "https://localhost:8080/"
        },
        "id": "0XbwRPzTPl42",
        "outputId": "7dd35253-98cf-42bd-c592-ee28fcc6fe5f"
      },
      "source": [
        "epochs = 50\n",
        "lr = 1e-6\n",
        "history4 = fit(epochs, lr, model, train_loader, val_loader)"
      ],
      "execution_count": 89,
      "outputs": [
        {
          "output_type": "stream",
          "text": [
            "Epoch [20], val_loss: 9277.3789\n",
            "Epoch [40], val_loss: 9277.3760\n",
            "Epoch [50], val_loss: 9277.3750\n"
          ],
          "name": "stdout"
        }
      ]
    },
    {
      "cell_type": "code",
      "metadata": {
        "colab": {
          "base_uri": "https://localhost:8080/"
        },
        "id": "yq3UHWLSPl42",
        "outputId": "5d0e0841-5d92-4b9e-bf2b-e8f945d41b2c"
      },
      "source": [
        "epochs = 50\n",
        "lr = 1e-8\n",
        "history5 = fit(epochs, lr, model, train_loader, val_loader)"
      ],
      "execution_count": 90,
      "outputs": [
        {
          "output_type": "stream",
          "text": [
            "Epoch [20], val_loss: 9277.3750\n",
            "Epoch [40], val_loss: 9277.3750\n",
            "Epoch [50], val_loss: 9277.3750\n"
          ],
          "name": "stdout"
        }
      ]
    },
    {
      "cell_type": "markdown",
      "metadata": {
        "id": "a910hEsNPl42"
      },
      "source": [
        "**Q: What is the final validation loss of your model?**"
      ]
    },
    {
      "cell_type": "code",
      "metadata": {
        "id": "GC5rjSDmPl42"
      },
      "source": [
        "val_loss = 9277.3750"
      ],
      "execution_count": 91,
      "outputs": []
    },
    {
      "cell_type": "markdown",
      "metadata": {
        "id": "x5XBjGl4Pl42"
      },
      "source": [
        "Let's log the final validation loss to Jovian and commit the notebook"
      ]
    },
    {
      "cell_type": "code",
      "metadata": {
        "colab": {
          "base_uri": "https://localhost:8080/"
        },
        "id": "rgsSCtk_Pl42",
        "outputId": "b4d28df7-7db1-4e75-ce55-10ee1781e923"
      },
      "source": [
        "jovian.log_metrics(val_loss=val_loss)"
      ],
      "execution_count": 92,
      "outputs": [
        {
          "output_type": "stream",
          "text": [
            "[jovian] Metrics logged.\u001b[0m\n"
          ],
          "name": "stdout"
        }
      ]
    },
    {
      "cell_type": "code",
      "metadata": {
        "colab": {
          "base_uri": "https://localhost:8080/",
          "height": 103
        },
        "id": "q67v_QP5Pl42",
        "outputId": "77742e67-40d5-4b14-f5f0-ac2290f08412"
      },
      "source": [
        "jovian.commit(project=project_name, environment=None)"
      ],
      "execution_count": 93,
      "outputs": [
        {
          "output_type": "stream",
          "text": [
            "[jovian] Detected Colab notebook...\u001b[0m\n",
            "[jovian] Uploading colab notebook to Jovian...\u001b[0m\n",
            "[jovian] Attaching records (metrics, hyperparameters, dataset etc.)\u001b[0m\n",
            "[jovian] Committed successfully! https://jovian.ai/kishanyadav3223/02-insurance-linear-regression\u001b[0m\n"
          ],
          "name": "stdout"
        },
        {
          "output_type": "execute_result",
          "data": {
            "application/vnd.google.colaboratory.intrinsic+json": {
              "type": "string"
            },
            "text/plain": [
              "'https://jovian.ai/kishanyadav3223/02-insurance-linear-regression'"
            ]
          },
          "metadata": {
            "tags": []
          },
          "execution_count": 93
        }
      ]
    },
    {
      "cell_type": "markdown",
      "metadata": {
        "id": "_0aG9P9qPl42"
      },
      "source": [
        "Now scroll back up, re-initialize the model, and try different set of values for batch size, number of epochs, learning rate etc. Commit each experiment and use the \"Compare\" and \"View Diff\" options on Jovian to compare the different results."
      ]
    },
    {
      "cell_type": "markdown",
      "metadata": {
        "id": "0rulf8U_Pl42"
      },
      "source": [
        "## Step 5: Make predictions using the trained model\n",
        "\n",
        "**Q: Complete the following function definition to make predictions on a single input**"
      ]
    },
    {
      "cell_type": "code",
      "metadata": {
        "id": "cbMOI8amPl42"
      },
      "source": [
        "def predict_single(input, target, model):\n",
        "    inputs = input.unsqueeze(0)\n",
        "    predictions = model(inputs)               # fill this\n",
        "    prediction = predictions[0].detach()\n",
        "    print(\"Input:\", input)\n",
        "    print(\"Target:\", target)\n",
        "    print(\"Prediction:\", prediction)"
      ],
      "execution_count": 94,
      "outputs": []
    },
    {
      "cell_type": "code",
      "metadata": {
        "colab": {
          "base_uri": "https://localhost:8080/"
        },
        "id": "eqPzXLatPl42",
        "outputId": "ad6e5a87-41f0-423d-bc9f-2ebcfe8611e3"
      },
      "source": [
        "input, target = val_ds[0]\n",
        "predict_single(input, target, model)"
      ],
      "execution_count": 95,
      "outputs": [
        {
          "output_type": "stream",
          "text": [
            "Input: tensor([24.0000,  1.0000, 30.7650,  0.0000,  0.0000,  3.0000])\n",
            "Target: tensor([2274.4873])\n",
            "Prediction: tensor([6765.6479])\n"
          ],
          "name": "stdout"
        }
      ]
    },
    {
      "cell_type": "code",
      "metadata": {
        "colab": {
          "base_uri": "https://localhost:8080/"
        },
        "id": "jL8XLuRFPl42",
        "outputId": "842e26e4-fb2f-4399-a336-4e038554dcfd"
      },
      "source": [
        "input, target = val_ds[10]\n",
        "predict_single(input, target, model)"
      ],
      "execution_count": 96,
      "outputs": [
        {
          "output_type": "stream",
          "text": [
            "Input: tensor([36.0000,  1.0000, 31.1850,  0.0000,  0.0000,  2.0000])\n",
            "Target: tensor([5059.6904])\n",
            "Prediction: tensor([8988.2861])\n"
          ],
          "name": "stdout"
        }
      ]
    },
    {
      "cell_type": "code",
      "metadata": {
        "colab": {
          "base_uri": "https://localhost:8080/"
        },
        "id": "LbgjeynQPl42",
        "outputId": "5519807b-de40-4731-f06e-07605bb0e9e7"
      },
      "source": [
        "input, target = val_ds[23]\n",
        "predict_single(input, target, model)"
      ],
      "execution_count": 97,
      "outputs": [
        {
          "output_type": "stream",
          "text": [
            "Input: tensor([53.0000,  0.0000, 39.9630,  3.0000,  0.0000,  2.0000])\n",
            "Target: tensor([23532.4473])\n",
            "Prediction: tensor([12782.9619])\n"
          ],
          "name": "stdout"
        }
      ]
    },
    {
      "cell_type": "markdown",
      "metadata": {
        "id": "qj31rLxsPl42"
      },
      "source": [
        "Are you happy with your model's predictions? Try to improve them further."
      ]
    },
    {
      "cell_type": "markdown",
      "metadata": {
        "id": "w3M7X8IDPl42"
      },
      "source": [
        "## (Optional) Step 6: Try another dataset & blog about it\n",
        "\n",
        "While this last step is optional for the submission of your assignment, we highly recommend that you do it. Try to replicate this notebook for a different linear regression or logistic regression problem. This will help solidify your understanding, and give you a chance to differentiate the generic patterns in machine learning from problem-specific details.You can use one of these starer notebooks (just change the dataset):\n",
        "\n",
        "- Linear regression (minimal): https://jovian.ai/aakashns/housing-linear-minimal\n",
        "- Logistic regression (minimal): https://jovian.ai/aakashns/mnist-logistic-minimal\n",
        "\n",
        "Here are some sources to find good datasets:\n",
        "\n",
        "- https://lionbridge.ai/datasets/10-open-datasets-for-linear-regression/\n",
        "- https://www.kaggle.com/rtatman/datasets-for-regression-analysis\n",
        "- https://archive.ics.uci.edu/ml/datasets.php?format=&task=reg&att=&area=&numAtt=&numIns=&type=&sort=nameUp&view=table\n",
        "- https://people.sc.fsu.edu/~jburkardt/datasets/regression/regression.html\n",
        "- https://archive.ics.uci.edu/ml/datasets/wine+quality\n",
        "- https://pytorch.org/docs/stable/torchvision/datasets.html\n",
        "\n",
        "We also recommend that you write a blog about your approach to the problem. Here is a suggested structure for your post (feel free to experiment with it):\n",
        "\n",
        "- Interesting title & subtitle\n",
        "- Overview of what the blog covers (which dataset, linear regression or logistic regression, intro to PyTorch)\n",
        "- Downloading & exploring the data\n",
        "- Preparing the data for training\n",
        "- Creating a model using PyTorch\n",
        "- Training the model to fit the data\n",
        "- Your thoughts on how to experiment with different hyperparmeters to reduce loss\n",
        "- Making predictions using the model\n",
        "\n",
        "As with the previous assignment, you can [embed Juptyer notebook cells & outputs from Jovian](https://medium.com/jovianml/share-and-embed-jupyter-notebooks-online-with-jovian-ml-df709a03064e) into your blog. \n",
        "\n",
        "Don't forget to share your work on the forum: https://jovian.ai/forum/t/linear-regression-and-logistic-regression-notebooks-and-blog-posts/14039"
      ]
    },
    {
      "cell_type": "code",
      "metadata": {
        "id": "MothABF0Pl42",
        "outputId": "5b0b9394-7203-4e63-b5e2-c01c5412c970"
      },
      "source": [
        "jovian.commit(project=project_name, environment=None)\n",
        "jovian.commit(project=project_name, environment=None) # try again, kaggle fails sometimes"
      ],
      "execution_count": null,
      "outputs": [
        {
          "output_type": "display_data",
          "data": {
            "application/javascript": [
              "window.require && require([\"base/js/namespace\"],function(Jupyter){Jupyter.notebook.save_checkpoint()})"
            ],
            "text/plain": [
              "<IPython.core.display.Javascript object>"
            ]
          },
          "metadata": {
            "tags": []
          }
        },
        {
          "output_type": "stream",
          "text": [
            "[jovian] Attempting to save notebook..\u001b[0m\n",
            "[jovian] Updating notebook \"aakashns/02-insurance-linear-regression\" on https://jovian.ai/\u001b[0m\n",
            "[jovian] Uploading notebook..\u001b[0m\n",
            "[jovian] Committed successfully! https://jovian.ai/aakashns/02-insurance-linear-regression\u001b[0m\n"
          ],
          "name": "stdout"
        },
        {
          "output_type": "display_data",
          "data": {
            "application/javascript": [
              "window.require && require([\"base/js/namespace\"],function(Jupyter){Jupyter.notebook.save_checkpoint()})"
            ],
            "text/plain": [
              "<IPython.core.display.Javascript object>"
            ]
          },
          "metadata": {
            "tags": []
          }
        },
        {
          "output_type": "stream",
          "text": [
            "[jovian] Attempting to save notebook..\u001b[0m\n"
          ],
          "name": "stdout"
        }
      ]
    },
    {
      "cell_type": "code",
      "metadata": {
        "id": "BqoqCRSbPl42"
      },
      "source": [
        ""
      ],
      "execution_count": null,
      "outputs": []
    }
  ]
}