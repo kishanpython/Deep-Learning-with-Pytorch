{
  "nbformat": 4,
  "nbformat_minor": 0,
  "metadata": {
    "kernelspec": {
      "display_name": "Python 3",
      "language": "python",
      "name": "python3"
    },
    "language_info": {
      "codemirror_mode": {
        "name": "ipython",
        "version": 3
      },
      "file_extension": ".py",
      "mimetype": "text/x-python",
      "name": "python",
      "nbconvert_exporter": "python",
      "pygments_lexer": "ipython3",
      "version": "3.8.5"
    },
    "colab": {
      "name": "01-tensor-operations.ipynb",
      "provenance": []
    }
  },
  "cells": [
    {
      "cell_type": "code",
      "metadata": {
        "colab": {
          "base_uri": "https://localhost:8080/"
        },
        "id": "EecYrVTWFbP0",
        "outputId": "e817729c-5dfc-40ad-ecd7-e11737643fb9"
      },
      "source": [
        "# Jovian Commit Essentials\n",
        "# Please retain and execute this cell without modifying the contents for `jovian.commit` to work\n",
        "!pip install jovian --upgrade -q\n",
        "import jovian\n",
        "jovian.utils.colab.set_colab_file_id('1TpaG1fYNCp9OCR-NY0YYe6Tld6xw9zbm')"
      ],
      "execution_count": 1,
      "outputs": [
        {
          "output_type": "stream",
          "text": [
            "\u001b[?25l\r\u001b[K     |█████                           | 10kB 18.3MB/s eta 0:00:01\r\u001b[K     |██████████                      | 20kB 23.1MB/s eta 0:00:01\r\u001b[K     |██████████████▉                 | 30kB 15.2MB/s eta 0:00:01\r\u001b[K     |███████████████████▉            | 40kB 11.0MB/s eta 0:00:01\r\u001b[K     |████████████████████████▉       | 51kB 9.3MB/s eta 0:00:01\r\u001b[K     |█████████████████████████████▊  | 61kB 8.9MB/s eta 0:00:01\r\u001b[K     |████████████████████████████████| 71kB 4.8MB/s \n",
            "\u001b[?25h  Building wheel for uuid (setup.py) ... \u001b[?25l\u001b[?25hdone\n"
          ],
          "name": "stdout"
        }
      ]
    },
    {
      "cell_type": "markdown",
      "metadata": {
        "id": "xboYBe3EFbP2"
      },
      "source": [
        "> ### Assignment Instructions (delete this cell before submission)\n",
        "> \n",
        "> The objective of this assignment is to develop a solid understanding of PyTorch tensors. In this assignment you will:\n",
        ">\n",
        "> 1. Pick 5 interesting functions related to PyTorch tensors by [reading the documentation](https://pytorch.org/docs/stable/torch.html), \n",
        "> 2. Edit this starter template notebook to illustrate their usage and publish your notebook to Jovian using `jovian.commit`. Make sure to add proper explanations too, not just code.\n",
        "> 3. Submit the link to your published notebook on Jovian here: https://jovian.ai/learn/deep-learning-with-pytorch-zero-to-gans/assignment/assignment-1-all-about-torch-tensor .\n",
        "> 4. (Optional) Write a blog post on [Medium](https://medium.com) to accompany and showcase your Jupyter notebook. [Embed cells from your notebook](https://medium.com/@aakashns/share-and-embed-jupyter-notebooks-online-with-jovian-ml-df709a03064e) wherever necessary.\n",
        "> 5. (Optional) [Share your work](https://jovian.ai/forum/t/pytorch-functions-and-tensor-operations/13790) with the community and exchange feedback with other participants\n",
        ">\n",
        ">\n",
        "> The recommended way to run this notebook is to click the \"Run\" button at the top of this page, and select \"Run on Colab\". Run `jovian.commit` regularly to save your progress.\n",
        "> \n",
        "> Try to give your notebook an interesting title e.g. \"All about PyTorch tensor operations\", \"5 PyTorch functions you didn't know you needed\", \"A beginner's guide to Autograd in PyToch\", \"Interesting ways to create PyTorch tensors\", \"Trigonometic functions in PyTorch\", \"How to use PyTorch tensors for Linear Algebra\" etc.\n",
        ">\n",
        "> **IMPORTANT NOTE**: Make sure to submit a Jovian notebook link e.g. https://jovian.ai/aakashns/01-tensor-operations . Colab links will not be accepted.\n",
        ">\n",
        "> Remove this cell containing instructions before making a submission or sharing your notebook, to make it more presentable.\n",
        ">\n",
        "\n"
      ]
    },
    {
      "cell_type": "markdown",
      "metadata": {
        "id": "BeDCPqG7FbP2"
      },
      "source": [
        "# PYTORCH: TENSORS EXAMPLES\n",
        "\n",
        "PyTorch is a library for processing tensors. A tensor is a number, vector, matrix, or any n-dimensional array. Let see it's mathematical implementations by using some PyTorch built-in functions :- \n",
        "  \n",
        "- TORCH.BERNOULLI\n",
        "- TORCH.NORMAL\n",
        "- TORCH.BITWISE_NOT\n",
        "- TORCH.CLAMP\n",
        "- TORCH.ARGSORT\n",
        "\n",
        "Before we begin, let's install and import PyTorch"
      ]
    },
    {
      "cell_type": "code",
      "metadata": {
        "id": "phavJ0LtFbP2"
      },
      "source": [
        "# Uncomment and run the appropriate command for your operating system, if required\n",
        "\n",
        "# Linux / Binder\n",
        "# !pip install numpy torch==1.7.0+cpu torchvision==0.8.1+cpu torchaudio==0.7.0 -f https://download.pytorch.org/whl/torch_stable.html\n",
        "\n",
        "# Windows\n",
        "# !pip install numpy torch==1.7.0+cpu torchvision==0.8.1+cpu torchaudio==0.7.0 -f https://download.pytorch.org/whl/torch_stable.html\n",
        "\n",
        "# MacOS\n",
        "# !pip install numpy torch torchvision torchaudio"
      ],
      "execution_count": null,
      "outputs": []
    },
    {
      "cell_type": "code",
      "metadata": {
        "id": "nuDOwSRhFbP2"
      },
      "source": [
        "# Import torch and other required modules\n",
        "import torch"
      ],
      "execution_count": 2,
      "outputs": []
    },
    {
      "cell_type": "markdown",
      "metadata": {
        "id": "RZuhITX6FbP2"
      },
      "source": [
        "## Function 1 - TORCH.BERNOULLI\n",
        "\n",
        "Draws binary random numbers (0 or 1) from a Bernoulli distribution.\n",
        "\n",
        "The input tensor should be a tensor containing probabilities to be used for drawing the binary random number. Hence, all values in input have to be in the range: 0 and 1.\n",
        "\n",
        "> **torch.bernoulli(input, *, generator=None, out=None) → Tensor**"
      ]
    },
    {
      "cell_type": "code",
      "metadata": {
        "colab": {
          "base_uri": "https://localhost:8080/"
        },
        "id": "sk9PXZY1FbP3",
        "outputId": "2a2c1acf-9825-4a69-9523-d26098d0663b"
      },
      "source": [
        "# Example 1 - working (change this)\n",
        "a = torch.empty(3, 3).uniform_(0, 1)  # generate a uniform random matrix with range [0, 1]\n",
        "a"
      ],
      "execution_count": 3,
      "outputs": [
        {
          "output_type": "execute_result",
          "data": {
            "text/plain": [
              "tensor([[0.8577, 0.8660, 0.0901],\n",
              "        [0.0674, 0.7798, 0.0552],\n",
              "        [0.4095, 0.1263, 0.1612]])"
            ]
          },
          "metadata": {
            "tags": []
          },
          "execution_count": 3
        }
      ]
    },
    {
      "cell_type": "code",
      "metadata": {
        "colab": {
          "base_uri": "https://localhost:8080/"
        },
        "id": "BflXvKPsItfP",
        "outputId": "6e471956-2e8a-4570-c28f-87b2f1ab1d55"
      },
      "source": [
        "# it set 0 and 1 on the basis of probability of a matrix\n",
        "torch.bernoulli(a)"
      ],
      "execution_count": 5,
      "outputs": [
        {
          "output_type": "execute_result",
          "data": {
            "text/plain": [
              "tensor([[1., 1., 0.],\n",
              "        [0., 0., 1.],\n",
              "        [0., 0., 0.]])"
            ]
          },
          "metadata": {
            "tags": []
          },
          "execution_count": 5
        }
      ]
    },
    {
      "cell_type": "markdown",
      "metadata": {
        "id": "LOKIEUOfFbP5"
      },
      "source": [
        "Explanation about example"
      ]
    },
    {
      "cell_type": "code",
      "metadata": {
        "colab": {
          "base_uri": "https://localhost:8080/"
        },
        "id": "6HIg416RFbP5",
        "outputId": "606edb77-715a-4861-cad9-8eb8e953c23d"
      },
      "source": [
        "# Example 2 - working\n",
        "b = torch.ones(3, 6) # probability of drawing \"1\" is 1\n",
        "torch.bernoulli(b)\n"
      ],
      "execution_count": 7,
      "outputs": [
        {
          "output_type": "execute_result",
          "data": {
            "text/plain": [
              "tensor([[1., 1., 1., 1., 1., 1.],\n",
              "        [1., 1., 1., 1., 1., 1.],\n",
              "        [1., 1., 1., 1., 1., 1.]])"
            ]
          },
          "metadata": {
            "tags": []
          },
          "execution_count": 7
        }
      ]
    },
    {
      "cell_type": "markdown",
      "metadata": {
        "id": "kHO79SA-FbP5"
      },
      "source": [
        "Explanation about example"
      ]
    },
    {
      "cell_type": "code",
      "metadata": {
        "colab": {
          "base_uri": "https://localhost:8080/",
          "height": 214
        },
        "id": "ETrUCq87FbP5",
        "outputId": "618db86e-e5a0-41c5-e3ac-8365b76638cb"
      },
      "source": [
        "# Example 3 - breaking (to illustrate when it breaks)\n",
        "c = torch.empty(3, 3).uniform_(5, 6) \n",
        "torch.bernoulli(c)"
      ],
      "execution_count": 10,
      "outputs": [
        {
          "output_type": "error",
          "ename": "RuntimeError",
          "evalue": "ignored",
          "traceback": [
            "\u001b[0;31m---------------------------------------------------------------------------\u001b[0m",
            "\u001b[0;31mRuntimeError\u001b[0m                              Traceback (most recent call last)",
            "\u001b[0;32m<ipython-input-10-3cbd7dd4e818>\u001b[0m in \u001b[0;36m<module>\u001b[0;34m()\u001b[0m\n\u001b[1;32m      1\u001b[0m \u001b[0;31m# Example 3 - breaking (to illustrate when it breaks)\u001b[0m\u001b[0;34m\u001b[0m\u001b[0;34m\u001b[0m\u001b[0;34m\u001b[0m\u001b[0m\n\u001b[1;32m      2\u001b[0m \u001b[0mc\u001b[0m \u001b[0;34m=\u001b[0m \u001b[0mtorch\u001b[0m\u001b[0;34m.\u001b[0m\u001b[0mempty\u001b[0m\u001b[0;34m(\u001b[0m\u001b[0;36m3\u001b[0m\u001b[0;34m,\u001b[0m \u001b[0;36m3\u001b[0m\u001b[0;34m)\u001b[0m\u001b[0;34m.\u001b[0m\u001b[0muniform_\u001b[0m\u001b[0;34m(\u001b[0m\u001b[0;36m5\u001b[0m\u001b[0;34m,\u001b[0m \u001b[0;36m6\u001b[0m\u001b[0;34m)\u001b[0m\u001b[0;34m\u001b[0m\u001b[0;34m\u001b[0m\u001b[0m\n\u001b[0;32m----> 3\u001b[0;31m \u001b[0mtorch\u001b[0m\u001b[0;34m.\u001b[0m\u001b[0mbernoulli\u001b[0m\u001b[0;34m(\u001b[0m\u001b[0mc\u001b[0m\u001b[0;34m)\u001b[0m\u001b[0;34m\u001b[0m\u001b[0;34m\u001b[0m\u001b[0m\n\u001b[0m",
            "\u001b[0;31mRuntimeError\u001b[0m: Expected p_in >= 0 && p_in <= 1 to be true, but got false.  (Could this error message be improved?  If so, please report an enhancement request to PyTorch.)"
          ]
        }
      ]
    },
    {
      "cell_type": "markdown",
      "metadata": {
        "id": "BaAeDZMfJWEY"
      },
      "source": [
        "The probability of matrix must be between 0 and 1 but here we can see that matrix c have probabilty between 5 and 6. So, it's an error. Here in error we can see the p_in will be `true` if prob of a number is between 0 and 1 but it's greater and set to `False` that's why error."
      ]
    },
    {
      "cell_type": "markdown",
      "metadata": {
        "id": "ZhG5ZG9hFbP5"
      },
      "source": [
        "You can use it in classification problem to show your final results."
      ]
    },
    {
      "cell_type": "markdown",
      "metadata": {
        "id": "maQRaf_tFbP5"
      },
      "source": [
        "Let's save our work using Jovian before continuing."
      ]
    },
    {
      "cell_type": "code",
      "metadata": {
        "id": "G3tUhutoFbP5"
      },
      "source": [
        "!pip install jovian --upgrade --quiet"
      ],
      "execution_count": 11,
      "outputs": []
    },
    {
      "cell_type": "code",
      "metadata": {
        "id": "llcaOKq8FbP6"
      },
      "source": [
        "import jovian"
      ],
      "execution_count": 12,
      "outputs": []
    },
    {
      "cell_type": "code",
      "metadata": {
        "colab": {
          "base_uri": "https://localhost:8080/",
          "height": 137
        },
        "id": "Ib0j2yKkFbP6",
        "outputId": "051c8b16-61d6-4653-99b2-9aaf8451859d"
      },
      "source": [
        "jovian.commit(project='01-tensor-operations')"
      ],
      "execution_count": 13,
      "outputs": [
        {
          "output_type": "stream",
          "text": [
            "[jovian] Detected Colab notebook...\u001b[0m\n",
            "[jovian] Please enter your API key ( from https://jovian.ai/ ):\u001b[0m\n",
            "API KEY: ··········\n",
            "[jovian] Uploading colab notebook to Jovian...\u001b[0m\n",
            "[jovian] Capturing environment..\u001b[0m\n",
            "[jovian] Committed successfully! https://jovian.ai/kishanyadav3223/01-tensor-operations\u001b[0m\n"
          ],
          "name": "stdout"
        },
        {
          "output_type": "execute_result",
          "data": {
            "application/vnd.google.colaboratory.intrinsic+json": {
              "type": "string"
            },
            "text/plain": [
              "'https://jovian.ai/kishanyadav3223/01-tensor-operations'"
            ]
          },
          "metadata": {
            "tags": []
          },
          "execution_count": 13
        }
      ]
    },
    {
      "cell_type": "markdown",
      "metadata": {
        "id": "mr3SYuSyFbP6"
      },
      "source": [
        "## Function 2 - TORCH.NORMAL\n",
        "\n",
        "Returns a tensor of random numbers drawn from separate normal distributions whose mean and standard deviation are given.\n",
        "\n",
        "* The `mean` is a tensor with the mean of each output element’s normal distribution\n",
        "\n",
        "* The `std` is a tensor with the standard deviation of each output element’s normal distribution\n",
        "\n",
        "* The shapes of mean and std don’t need to match, but the total number of elements in each tensor need to be the same.\n",
        "\n",
        " >**torch.normal(mean, std, *, generator=None, out=None) → Tensor**"
      ]
    },
    {
      "cell_type": "code",
      "metadata": {
        "colab": {
          "base_uri": "https://localhost:8080/"
        },
        "id": "FHvnWIjdFbP6",
        "outputId": "6b2580a3-07cc-4738-a6e4-0075e35f8e3b"
      },
      "source": [
        "# Example 1 - working\n",
        "# mean\n",
        "mean = torch.arange(1., 11.)\n",
        "# standard deviation\n",
        "std = torch.arange(1,0,-0.1)\n",
        "torch.normal(mean, std)"
      ],
      "execution_count": 14,
      "outputs": [
        {
          "output_type": "execute_result",
          "data": {
            "text/plain": [
              "tensor([-0.4875,  0.7237,  1.9654,  4.0919,  4.2460,  5.6293,  7.1683,  7.9267,\n",
              "         9.2859,  9.8148])"
            ]
          },
          "metadata": {
            "tags": []
          },
          "execution_count": 14
        }
      ]
    },
    {
      "cell_type": "markdown",
      "metadata": {
        "id": "am-eSx7bFbP6"
      },
      "source": [
        "It return tensor of random numbers drawn from separate normal distributions by the  mean and standard deviation which is given by us."
      ]
    },
    {
      "cell_type": "code",
      "metadata": {
        "colab": {
          "base_uri": "https://localhost:8080/"
        },
        "id": "siJTM33oFbP6",
        "outputId": "9e9c4593-fec1-4372-fa9d-aab9b8f1856b"
      },
      "source": [
        "# Example 2 - working\n",
        "# mean\n",
        "mean = 0.5\n",
        "# standard deviation\n",
        "std = torch.arange(1., 6.)\n",
        "torch.normal(mean, std)"
      ],
      "execution_count": 15,
      "outputs": [
        {
          "output_type": "execute_result",
          "data": {
            "text/plain": [
              "tensor([-0.4062,  0.7726, -1.0518, -7.0675,  4.7046])"
            ]
          },
          "metadata": {
            "tags": []
          },
          "execution_count": 15
        }
      ]
    },
    {
      "cell_type": "markdown",
      "metadata": {
        "id": "6B6rzPdQFbP7"
      },
      "source": [
        "Now the result is given by the size of std and mean is common for all five elements."
      ]
    },
    {
      "cell_type": "code",
      "metadata": {
        "colab": {
          "base_uri": "https://localhost:8080/",
          "height": 265
        },
        "id": "bP6Vd7bWFbP7",
        "outputId": "a32980b2-dd06-4b57-f938-21720a5b76d0"
      },
      "source": [
        "# Example 3 - breaking (to illustrate when it breaks)\n",
        "torch.normal(mean=2,std=3)"
      ],
      "execution_count": 22,
      "outputs": [
        {
          "output_type": "error",
          "ename": "TypeError",
          "evalue": "ignored",
          "traceback": [
            "\u001b[0;31m---------------------------------------------------------------------------\u001b[0m",
            "\u001b[0;31mTypeError\u001b[0m                                 Traceback (most recent call last)",
            "\u001b[0;32m<ipython-input-22-b8477f6f7fac>\u001b[0m in \u001b[0;36m<module>\u001b[0;34m()\u001b[0m\n\u001b[1;32m      1\u001b[0m \u001b[0;31m# Example 3 - breaking (to illustrate when it breaks)\u001b[0m\u001b[0;34m\u001b[0m\u001b[0;34m\u001b[0m\u001b[0;34m\u001b[0m\u001b[0m\n\u001b[0;32m----> 2\u001b[0;31m \u001b[0mtorch\u001b[0m\u001b[0;34m.\u001b[0m\u001b[0mnormal\u001b[0m\u001b[0;34m(\u001b[0m\u001b[0;36m2\u001b[0m\u001b[0;34m,\u001b[0m\u001b[0;36m3\u001b[0m\u001b[0;34m)\u001b[0m\u001b[0;34m\u001b[0m\u001b[0;34m\u001b[0m\u001b[0m\n\u001b[0m",
            "\u001b[0;31mTypeError\u001b[0m: normal() received an invalid combination of arguments - got (int, int), but expected one of:\n * (Tensor mean, Tensor std, *, torch.Generator generator, Tensor out)\n * (Tensor mean, float std, *, torch.Generator generator, Tensor out)\n * (float mean, Tensor std, *, torch.Generator generator, Tensor out)\n * (float mean, float std, tuple of ints size, *, torch.Generator generator, Tensor out, torch.dtype dtype, torch.layout layout, torch.device device, bool pin_memory, bool requires_grad)\n"
          ]
        }
      ]
    },
    {
      "cell_type": "markdown",
      "metadata": {
        "id": "uVuZ_CQmFbP7"
      },
      "source": [
        "Now this error ocurred because it needed one more argument that is size. If we give one more argument like  size=(1, 4) then it work perfectly. It doesn't know what should be the shape of output tensor that's why error."
      ]
    },
    {
      "cell_type": "markdown",
      "metadata": {
        "id": "l4OorF4vFbP7"
      },
      "source": [
        "It can be used when we want to generate some new values from a given mean and std."
      ]
    },
    {
      "cell_type": "code",
      "metadata": {
        "colab": {
          "base_uri": "https://localhost:8080/",
          "height": 103
        },
        "id": "xVHKySazFbP7",
        "outputId": "5fab04f5-cb51-467c-bf44-be7f112d81aa"
      },
      "source": [
        "jovian.commit(project='01-tensor-operations')"
      ],
      "execution_count": 23,
      "outputs": [
        {
          "output_type": "stream",
          "text": [
            "[jovian] Detected Colab notebook...\u001b[0m\n",
            "[jovian] Uploading colab notebook to Jovian...\u001b[0m\n",
            "[jovian] Capturing environment..\u001b[0m\n",
            "[jovian] Committed successfully! https://jovian.ai/kishanyadav3223/01-tensor-operations\u001b[0m\n"
          ],
          "name": "stdout"
        },
        {
          "output_type": "execute_result",
          "data": {
            "application/vnd.google.colaboratory.intrinsic+json": {
              "type": "string"
            },
            "text/plain": [
              "'https://jovian.ai/kishanyadav3223/01-tensor-operations'"
            ]
          },
          "metadata": {
            "tags": []
          },
          "execution_count": 23
        }
      ]
    },
    {
      "cell_type": "markdown",
      "metadata": {
        "id": "30HRfhJvFbP7"
      },
      "source": [
        "## Function 3 - TORCH.BITWISE_NOT\n",
        "\n",
        "Computes the bitwise NOT of the given input tensor. The input tensor must be of integral or Boolean types. For bool tensors, it computes the logical NOT.\n",
        "\n",
        "> **torch.bitwise_not(input, *, out=None) → Tensor**"
      ]
    },
    {
      "cell_type": "code",
      "metadata": {
        "colab": {
          "base_uri": "https://localhost:8080/"
        },
        "id": "89b9_2BoFbP7",
        "outputId": "8652d1f4-dbb5-4b50-8a62-af3954113c67"
      },
      "source": [
        "# Example 1 - working\n",
        "torch.bitwise_not(torch.tensor([-1, -2, 3], dtype=torch.int8))"
      ],
      "execution_count": 24,
      "outputs": [
        {
          "output_type": "execute_result",
          "data": {
            "text/plain": [
              "tensor([ 0,  1, -4], dtype=torch.int8)"
            ]
          },
          "metadata": {
            "tags": []
          },
          "execution_count": 24
        }
      ]
    },
    {
      "cell_type": "markdown",
      "metadata": {
        "id": "xiE3NE8uFbP7"
      },
      "source": [
        "Explanation about example"
      ]
    },
    {
      "cell_type": "code",
      "metadata": {
        "colab": {
          "base_uri": "https://localhost:8080/"
        },
        "id": "2zPxxVVLFbP7",
        "outputId": "31438a0b-162f-4a84-b800-047d61c559a9"
      },
      "source": [
        "# Example 2 - working\n",
        "torch.bitwise_not(torch.tensor([True, False, 3, 4, 5], dtype=torch.int8))"
      ],
      "execution_count": 26,
      "outputs": [
        {
          "output_type": "execute_result",
          "data": {
            "text/plain": [
              "tensor([-2, -1, -4, -5, -6], dtype=torch.int8)"
            ]
          },
          "metadata": {
            "tags": []
          },
          "execution_count": 26
        }
      ]
    },
    {
      "cell_type": "markdown",
      "metadata": {
        "id": "iTWMBa1gFbP7"
      },
      "source": [
        "Explanation about example"
      ]
    },
    {
      "cell_type": "code",
      "metadata": {
        "colab": {
          "base_uri": "https://localhost:8080/",
          "height": 180
        },
        "id": "EeJbuyFbFbP7",
        "outputId": "b7e9ccd8-06a0-4e5e-d673-65f5f2cff195"
      },
      "source": [
        "# Example 3 - breaking (to illustrate when it breaks)\n",
        "torch.bitwise_not(torch.tensor([-1., -2., 3.]))"
      ],
      "execution_count": 28,
      "outputs": [
        {
          "output_type": "error",
          "ename": "RuntimeError",
          "evalue": "ignored",
          "traceback": [
            "\u001b[0;31m---------------------------------------------------------------------------\u001b[0m",
            "\u001b[0;31mRuntimeError\u001b[0m                              Traceback (most recent call last)",
            "\u001b[0;32m<ipython-input-28-79cad97b1053>\u001b[0m in \u001b[0;36m<module>\u001b[0;34m()\u001b[0m\n\u001b[1;32m      1\u001b[0m \u001b[0;31m# Example 3 - breaking (to illustrate when it breaks)\u001b[0m\u001b[0;34m\u001b[0m\u001b[0;34m\u001b[0m\u001b[0;34m\u001b[0m\u001b[0m\n\u001b[0;32m----> 2\u001b[0;31m \u001b[0mtorch\u001b[0m\u001b[0;34m.\u001b[0m\u001b[0mbitwise_not\u001b[0m\u001b[0;34m(\u001b[0m\u001b[0mtorch\u001b[0m\u001b[0;34m.\u001b[0m\u001b[0mtensor\u001b[0m\u001b[0;34m(\u001b[0m\u001b[0;34m[\u001b[0m\u001b[0;34m-\u001b[0m\u001b[0;36m1.\u001b[0m\u001b[0;34m,\u001b[0m \u001b[0;34m-\u001b[0m\u001b[0;36m2.\u001b[0m\u001b[0;34m,\u001b[0m \u001b[0;36m3.\u001b[0m\u001b[0;34m]\u001b[0m\u001b[0;34m)\u001b[0m\u001b[0;34m)\u001b[0m\u001b[0;34m\u001b[0m\u001b[0;34m\u001b[0m\u001b[0m\n\u001b[0m",
            "\u001b[0;31mRuntimeError\u001b[0m: \"bitwise_not_cpu\" not implemented for 'Float'"
          ]
        }
      ]
    },
    {
      "cell_type": "markdown",
      "metadata": {
        "id": "7uISKldWFbP7"
      },
      "source": [
        "This operations can't be apply for floating points numbers."
      ]
    },
    {
      "cell_type": "markdown",
      "metadata": {
        "id": "X04MGiQoFbP7"
      },
      "source": [
        "This function can be used in image processing by taking care of floating points numbers."
      ]
    },
    {
      "cell_type": "code",
      "metadata": {
        "colab": {
          "base_uri": "https://localhost:8080/",
          "height": 103
        },
        "id": "EtirZayYFbP7",
        "outputId": "7bfd5020-8449-485c-cf0a-a462e57ad0df"
      },
      "source": [
        "jovian.commit(project='01-tensor-operations')"
      ],
      "execution_count": 29,
      "outputs": [
        {
          "output_type": "stream",
          "text": [
            "[jovian] Detected Colab notebook...\u001b[0m\n",
            "[jovian] Uploading colab notebook to Jovian...\u001b[0m\n",
            "[jovian] Capturing environment..\u001b[0m\n",
            "[jovian] Committed successfully! https://jovian.ai/kishanyadav3223/01-tensor-operations\u001b[0m\n"
          ],
          "name": "stdout"
        },
        {
          "output_type": "execute_result",
          "data": {
            "application/vnd.google.colaboratory.intrinsic+json": {
              "type": "string"
            },
            "text/plain": [
              "'https://jovian.ai/kishanyadav3223/01-tensor-operations'"
            ]
          },
          "metadata": {
            "tags": []
          },
          "execution_count": 29
        }
      ]
    },
    {
      "cell_type": "markdown",
      "metadata": {
        "id": "Ix24rJzEFbP8"
      },
      "source": [
        "## Function 4 - TORCH.CLAMP\n",
        "\n",
        "Clamp all elements in input into the range `[ min, max ]` and return a resulting tensor.\n",
        "\n",
        "> **torch.clamp(input, min, max, *, out=None) → Tensor**"
      ]
    },
    {
      "cell_type": "code",
      "metadata": {
        "colab": {
          "base_uri": "https://localhost:8080/"
        },
        "id": "GEnqzna9FbP8",
        "outputId": "8d978731-eab2-4e2e-dc81-7b4e8ed7f94a"
      },
      "source": [
        "# Example 1 - working\n",
        "a = torch.randn(4)\n",
        "a"
      ],
      "execution_count": 33,
      "outputs": [
        {
          "output_type": "execute_result",
          "data": {
            "text/plain": [
              "tensor([ 0.6463,  0.3681, -1.0105,  0.4550])"
            ]
          },
          "metadata": {
            "tags": []
          },
          "execution_count": 33
        }
      ]
    },
    {
      "cell_type": "code",
      "metadata": {
        "colab": {
          "base_uri": "https://localhost:8080/"
        },
        "id": "0y9vlsnDSGa3",
        "outputId": "23479d66-45d3-457d-9bd7-3b6867f64d8f"
      },
      "source": [
        "torch.clamp(a, min=-0.5, max=0.2)"
      ],
      "execution_count": 35,
      "outputs": [
        {
          "output_type": "execute_result",
          "data": {
            "text/plain": [
              "tensor([ 0.2000,  0.2000, -0.5000,  0.2000])"
            ]
          },
          "metadata": {
            "tags": []
          },
          "execution_count": 35
        }
      ]
    },
    {
      "cell_type": "markdown",
      "metadata": {
        "id": "nbdTP-dCFbP8"
      },
      "source": [
        "Explanation about example"
      ]
    },
    {
      "cell_type": "code",
      "metadata": {
        "colab": {
          "base_uri": "https://localhost:8080/"
        },
        "id": "LddAl80rFbP8",
        "outputId": "00f0a83c-d9c5-4dd8-fd67-537321c2e2c2"
      },
      "source": [
        "# Example 2 - working\n",
        "b = torch.randn(5)\n",
        "b"
      ],
      "execution_count": 37,
      "outputs": [
        {
          "output_type": "execute_result",
          "data": {
            "text/plain": [
              "tensor([ 0.3676, -2.1249,  0.8019,  1.0089,  1.5268])"
            ]
          },
          "metadata": {
            "tags": []
          },
          "execution_count": 37
        }
      ]
    },
    {
      "cell_type": "code",
      "metadata": {
        "colab": {
          "base_uri": "https://localhost:8080/"
        },
        "id": "6Kla86MPSZX-",
        "outputId": "f10db2fd-e162-458c-a22c-02f15f5f27d6"
      },
      "source": [
        "torch.clamp(b, min=0.1)"
      ],
      "execution_count": 38,
      "outputs": [
        {
          "output_type": "execute_result",
          "data": {
            "text/plain": [
              "tensor([0.3676, 0.1000, 0.8019, 1.0089, 1.5268])"
            ]
          },
          "metadata": {
            "tags": []
          },
          "execution_count": 38
        }
      ]
    },
    {
      "cell_type": "markdown",
      "metadata": {
        "id": "JstWYVrsFbP8"
      },
      "source": [
        "Explanation about example"
      ]
    },
    {
      "cell_type": "code",
      "metadata": {
        "colab": {
          "base_uri": "https://localhost:8080/"
        },
        "id": "uy46OxpiFbP8",
        "outputId": "58381034-dd9e-4a85-ea0e-90e240835523"
      },
      "source": [
        "# Example 3 - breaking (to illustrate when it breaks)\n",
        "c = torch.randn(4)\n",
        "c"
      ],
      "execution_count": 50,
      "outputs": [
        {
          "output_type": "execute_result",
          "data": {
            "text/plain": [
              "tensor([-0.6863,  0.7623, -1.0074,  1.2440])"
            ]
          },
          "metadata": {
            "tags": []
          },
          "execution_count": 50
        }
      ]
    },
    {
      "cell_type": "code",
      "metadata": {
        "colab": {
          "base_uri": "https://localhost:8080/",
          "height": 163
        },
        "id": "Zcnff9BXTeB2",
        "outputId": "703db08e-2856-48ee-8682-81bbbde708ca"
      },
      "source": [
        "torch.clamp(c)"
      ],
      "execution_count": 51,
      "outputs": [
        {
          "output_type": "error",
          "ename": "RuntimeError",
          "evalue": "ignored",
          "traceback": [
            "\u001b[0;31m---------------------------------------------------------------------------\u001b[0m",
            "\u001b[0;31mRuntimeError\u001b[0m                              Traceback (most recent call last)",
            "\u001b[0;32m<ipython-input-51-5740f3a91292>\u001b[0m in \u001b[0;36m<module>\u001b[0;34m()\u001b[0m\n\u001b[0;32m----> 1\u001b[0;31m \u001b[0mtorch\u001b[0m\u001b[0;34m.\u001b[0m\u001b[0mclamp\u001b[0m\u001b[0;34m(\u001b[0m\u001b[0mc\u001b[0m\u001b[0;34m)\u001b[0m\u001b[0;34m\u001b[0m\u001b[0;34m\u001b[0m\u001b[0m\n\u001b[0m",
            "\u001b[0;31mRuntimeError\u001b[0m: At least one of 'min' or 'max' must not be None"
          ]
        }
      ]
    },
    {
      "cell_type": "markdown",
      "metadata": {
        "id": "4JlafwrOFbP8"
      },
      "source": [
        "It required atleast one argument min or max. Both must not be left `None`."
      ]
    },
    {
      "cell_type": "markdown",
      "metadata": {
        "id": "-MKvFM01FbP8"
      },
      "source": [
        "To clamp the value between given min and max number.\n",
        "\n"
      ]
    },
    {
      "cell_type": "code",
      "metadata": {
        "colab": {
          "base_uri": "https://localhost:8080/",
          "height": 103
        },
        "id": "Drh78AdIFbP8",
        "outputId": "3a6ac34f-b252-4f92-eb7e-0c9bd276ab4f"
      },
      "source": [
        "jovian.commit(project='01-tensor-operations')"
      ],
      "execution_count": 52,
      "outputs": [
        {
          "output_type": "stream",
          "text": [
            "[jovian] Detected Colab notebook...\u001b[0m\n",
            "[jovian] Uploading colab notebook to Jovian...\u001b[0m\n",
            "[jovian] Capturing environment..\u001b[0m\n",
            "[jovian] Committed successfully! https://jovian.ai/kishanyadav3223/01-tensor-operations\u001b[0m\n"
          ],
          "name": "stdout"
        },
        {
          "output_type": "execute_result",
          "data": {
            "application/vnd.google.colaboratory.intrinsic+json": {
              "type": "string"
            },
            "text/plain": [
              "'https://jovian.ai/kishanyadav3223/01-tensor-operations'"
            ]
          },
          "metadata": {
            "tags": []
          },
          "execution_count": 52
        }
      ]
    },
    {
      "cell_type": "markdown",
      "metadata": {
        "id": "iKGvjbqQFbP8"
      },
      "source": [
        "## Function 5 - TORCH.ARGSORT\n",
        "\n",
        "Returns the indices that sort a tensor along a given dimension in ascending order by value.\n",
        "\n",
        "> **torch.argsort(input, dim=-1, descending=False) → LongTensor**"
      ]
    },
    {
      "cell_type": "code",
      "metadata": {
        "colab": {
          "base_uri": "https://localhost:8080/"
        },
        "id": "6iQOOR5PFbP8",
        "outputId": "1e86d38a-37e7-4bae-94d7-a985984a1ec6"
      },
      "source": [
        "# Example 1 - working\n",
        "a = torch.randn(4, 4)\n",
        "a"
      ],
      "execution_count": 53,
      "outputs": [
        {
          "output_type": "execute_result",
          "data": {
            "text/plain": [
              "tensor([[-1.7410, -0.3209, -1.4893, -1.4207],\n",
              "        [-0.6450,  1.6361, -0.5672, -0.4403],\n",
              "        [ 1.5960,  1.5749, -1.2086, -1.8681],\n",
              "        [-1.3784,  0.2232, -1.1140,  1.2713]])"
            ]
          },
          "metadata": {
            "tags": []
          },
          "execution_count": 53
        }
      ]
    },
    {
      "cell_type": "code",
      "metadata": {
        "colab": {
          "base_uri": "https://localhost:8080/"
        },
        "id": "52PGZmwbVwOG",
        "outputId": "b4b6521b-f18c-40be-aa6b-8b2ea0d3120f"
      },
      "source": [
        "torch.argsort(a, dim=1)"
      ],
      "execution_count": 54,
      "outputs": [
        {
          "output_type": "execute_result",
          "data": {
            "text/plain": [
              "tensor([[0, 2, 3, 1],\n",
              "        [0, 2, 3, 1],\n",
              "        [3, 2, 1, 0],\n",
              "        [0, 2, 1, 3]])"
            ]
          },
          "metadata": {
            "tags": []
          },
          "execution_count": 54
        }
      ]
    },
    {
      "cell_type": "markdown",
      "metadata": {
        "id": "laYvX9d4FbP8"
      },
      "source": [
        "Explanation about example"
      ]
    },
    {
      "cell_type": "code",
      "metadata": {
        "colab": {
          "base_uri": "https://localhost:8080/"
        },
        "id": "WM8Wmm1dFbP8",
        "outputId": "f98e1d90-345a-468a-914f-b22bf9a7aea1"
      },
      "source": [
        "# Example 2 - working\n",
        "b = torch.randn(5, 4)\n",
        "b"
      ],
      "execution_count": 55,
      "outputs": [
        {
          "output_type": "execute_result",
          "data": {
            "text/plain": [
              "tensor([[ 1.5664, -1.5824,  1.8326,  0.5473],\n",
              "        [ 0.2952, -1.3079, -1.3203,  0.0868],\n",
              "        [ 0.0532, -1.1134, -0.4420,  0.7908],\n",
              "        [-0.1406,  0.0637, -0.5719,  0.2956],\n",
              "        [ 1.9778,  1.1340, -0.0639,  2.2716]])"
            ]
          },
          "metadata": {
            "tags": []
          },
          "execution_count": 55
        }
      ]
    },
    {
      "cell_type": "code",
      "metadata": {
        "colab": {
          "base_uri": "https://localhost:8080/"
        },
        "id": "spu-Pky8V6s1",
        "outputId": "bad76435-4ba0-428c-eff5-396310ba5c40"
      },
      "source": [
        "torch.argsort(b)"
      ],
      "execution_count": 57,
      "outputs": [
        {
          "output_type": "execute_result",
          "data": {
            "text/plain": [
              "tensor([[1, 3, 0, 2],\n",
              "        [2, 1, 3, 0],\n",
              "        [1, 2, 0, 3],\n",
              "        [2, 0, 1, 3],\n",
              "        [2, 1, 0, 3]])"
            ]
          },
          "metadata": {
            "tags": []
          },
          "execution_count": 57
        }
      ]
    },
    {
      "cell_type": "markdown",
      "metadata": {
        "id": "--FUB1J5FbP8"
      },
      "source": [
        "Explanation about example"
      ]
    },
    {
      "cell_type": "code",
      "metadata": {
        "colab": {
          "base_uri": "https://localhost:8080/"
        },
        "id": "LNdq1VZnFbP8",
        "outputId": "a7f1b547-995a-4527-fac4-19012d7b5f11"
      },
      "source": [
        "# Example 3 - breaking (to illustrate when it breaks)\n",
        "c = torch.randn(5, 8)\n",
        "c"
      ],
      "execution_count": 63,
      "outputs": [
        {
          "output_type": "execute_result",
          "data": {
            "text/plain": [
              "tensor([[ 0.5698, -0.0166, -0.8730,  0.9253,  0.5552,  1.9456, -1.6192,  0.4206],\n",
              "        [-0.0482, -0.2650,  1.0987, -0.2075, -1.4154, -0.5969,  0.1385, -0.8387],\n",
              "        [-0.5501,  0.8571,  0.5036, -0.7083,  1.1437,  0.7221, -1.0909, -0.2811],\n",
              "        [ 0.4078,  0.0367, -0.6024, -0.1564, -0.4063, -0.5584,  0.4385,  0.0642],\n",
              "        [-0.2326,  0.1298,  0.7839,  1.8494, -0.6862, -0.5726, -0.3395, -0.1940]])"
            ]
          },
          "metadata": {
            "tags": []
          },
          "execution_count": 63
        }
      ]
    },
    {
      "cell_type": "code",
      "metadata": {
        "colab": {
          "base_uri": "https://localhost:8080/",
          "height": 163
        },
        "id": "nQrRGoMnkPTZ",
        "outputId": "682437ab-7add-429c-db10-059ffaf4c5ad"
      },
      "source": [
        "torch.argsort(c, dim=10)"
      ],
      "execution_count": 65,
      "outputs": [
        {
          "output_type": "error",
          "ename": "IndexError",
          "evalue": "ignored",
          "traceback": [
            "\u001b[0;31m---------------------------------------------------------------------------\u001b[0m",
            "\u001b[0;31mIndexError\u001b[0m                                Traceback (most recent call last)",
            "\u001b[0;32m<ipython-input-65-669b8f6a3ccd>\u001b[0m in \u001b[0;36m<module>\u001b[0;34m()\u001b[0m\n\u001b[0;32m----> 1\u001b[0;31m \u001b[0mtorch\u001b[0m\u001b[0;34m.\u001b[0m\u001b[0margsort\u001b[0m\u001b[0;34m(\u001b[0m\u001b[0mc\u001b[0m\u001b[0;34m,\u001b[0m \u001b[0mdim\u001b[0m\u001b[0;34m=\u001b[0m\u001b[0;36m10\u001b[0m\u001b[0;34m)\u001b[0m\u001b[0;34m\u001b[0m\u001b[0;34m\u001b[0m\u001b[0m\n\u001b[0m",
            "\u001b[0;31mIndexError\u001b[0m: Dimension out of range (expected to be in range of [-2, 1], but got 10)"
          ]
        }
      ]
    },
    {
      "cell_type": "markdown",
      "metadata": {
        "id": "y3SNAUWFFbP8"
      },
      "source": [
        "If you don't give any dimension it doesn't have any problem but if you give it should be in the specified range.\n",
        "\n",
        "**Expected to be in range of [-2, 1]**"
      ]
    },
    {
      "cell_type": "markdown",
      "metadata": {
        "id": "HFdiE84UFbP8"
      },
      "source": [
        "The indices that sort a tensor along a given dimension in ascending order by value. This is the second value returned by `torch.sort().`"
      ]
    },
    {
      "cell_type": "code",
      "metadata": {
        "colab": {
          "base_uri": "https://localhost:8080/",
          "height": 103
        },
        "id": "6Yvdt4M2FbP8",
        "outputId": "77aadf60-7d01-49db-dbd2-2f034796c2db"
      },
      "source": [
        "jovian.commit(project='01-tensor-operations')"
      ],
      "execution_count": 66,
      "outputs": [
        {
          "output_type": "stream",
          "text": [
            "[jovian] Detected Colab notebook...\u001b[0m\n",
            "[jovian] Uploading colab notebook to Jovian...\u001b[0m\n",
            "[jovian] Capturing environment..\u001b[0m\n",
            "[jovian] Committed successfully! https://jovian.ai/kishanyadav3223/01-tensor-operations\u001b[0m\n"
          ],
          "name": "stdout"
        },
        {
          "output_type": "execute_result",
          "data": {
            "application/vnd.google.colaboratory.intrinsic+json": {
              "type": "string"
            },
            "text/plain": [
              "'https://jovian.ai/kishanyadav3223/01-tensor-operations'"
            ]
          },
          "metadata": {
            "tags": []
          },
          "execution_count": 66
        }
      ]
    },
    {
      "cell_type": "markdown",
      "metadata": {
        "id": "wX5vVwZWFbP8"
      },
      "source": [
        "## Conclusion\n",
        "\n",
        "In this notebook we demonstrate the use of 5 tensor functions that are useful. To play around with more such function you can visit on <a href='https://pytorch.org/docs/stable/torch.html'>PyTorch docs.</a>"
      ]
    },
    {
      "cell_type": "markdown",
      "metadata": {
        "id": "3J8ojCcEFbP8"
      },
      "source": [
        "## Reference Links\n",
        "Provide links to your references and other interesting articles about tensors\n",
        "* Official documentation for tensor operations: https://pytorch.org/docs/stable/torch.html"
      ]
    },
    {
      "cell_type": "code",
      "metadata": {
        "colab": {
          "base_uri": "https://localhost:8080/",
          "height": 103
        },
        "id": "LlOJSVU-FbP8",
        "outputId": "c14fdb7a-e975-4e18-d320-ce6cb73c04d7"
      },
      "source": [
        "jovian.commit(project='01-tensor-operations')"
      ],
      "execution_count": 72,
      "outputs": [
        {
          "output_type": "stream",
          "text": [
            "[jovian] Detected Colab notebook...\u001b[0m\n",
            "[jovian] Uploading colab notebook to Jovian...\u001b[0m\n",
            "[jovian] Capturing environment..\u001b[0m\n",
            "[jovian] Committed successfully! https://jovian.ai/kishanyadav3223/01-tensor-operations\u001b[0m\n"
          ],
          "name": "stdout"
        },
        {
          "output_type": "execute_result",
          "data": {
            "application/vnd.google.colaboratory.intrinsic+json": {
              "type": "string"
            },
            "text/plain": [
              "'https://jovian.ai/kishanyadav3223/01-tensor-operations'"
            ]
          },
          "metadata": {
            "tags": []
          },
          "execution_count": 72
        }
      ]
    },
    {
      "cell_type": "code",
      "metadata": {
        "id": "xkzc4fiEm2m_"
      },
      "source": [
        ""
      ],
      "execution_count": null,
      "outputs": []
    }
  ]
}